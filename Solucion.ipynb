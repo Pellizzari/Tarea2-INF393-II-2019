{
  "nbformat": 4,
  "nbformat_minor": 0,
  "metadata": {
    "kernelspec": {
      "display_name": "Python 3",
      "language": "python",
      "name": "python3"
    },
    "language_info": {
      "codemirror_mode": {
        "name": "ipython",
        "version": 3
      },
      "file_extension": ".py",
      "mimetype": "text/x-python",
      "name": "python",
      "nbconvert_exporter": "python",
      "pygments_lexer": "ipython3",
      "version": "3.7.6"
    },
    "colab": {
      "name": "Tarea 2 ML.ipynb",
      "provenance": [],
      "collapsed_sections": [],
      "include_colab_link": true
    }
  },
  "cells": [
    {
      "cell_type": "markdown",
      "metadata": {
        "id": "view-in-github",
        "colab_type": "text"
      },
      "source": [
        "<a href=\"https://colab.research.google.com/github/Pellizzari/Tarea2-INF393-II-2019/blob/master/Solucion.ipynb\" target=\"_parent\"><img src=\"https://colab.research.google.com/assets/colab-badge.svg\" alt=\"Open In Colab\"/></a>"
      ]
    },
    {
      "cell_type": "markdown",
      "metadata": {
        "id": "dA61s46aCJR3",
        "colab_type": "text"
      },
      "source": [
        "<img src=\"http://www.exalumnos.usm.cl/wp-content/uploads/2015/06/Isotipo-Negro.gif\" title=\"Title text\" width=\"20%\" height=\"20%\" />\n",
        "\n",
        "\n",
        "<hr style=\"height:2px;border:none\"/>\n",
        "<h1 align='center'> INF-393 Máquinas de Aprendizaje II-2018 </h1>\n",
        "\n",
        "<H3 align='center'> Tarea 2 - Fronteras no Lineales </H3>\n",
        "<hr style=\"height:2px;border:none\"/>\n",
        "\n",
        "**Temas**  \n",
        "* similaridad: KNN\n",
        "* Selección de hı́per-parámetros estructurales en SVM, Arboles de Decisión, k-NN y Redes Neuronales.\n",
        "* Métodos de *kernel*.\n",
        "* Extracción de características.\n",
        "* Múltiples anotaciones\n",
        "\n",
        "** Formalidades **  \n",
        "* Equipos de trabajo de: 2 personas (*cada uno debe estar en condiciones de realizar una presentación y discutir sobre cada punto del trabajo realizado*)\n",
        "* Se debe preparar una presentación de 20 minutos. Presentador será elegido aleatoriamente.\n",
        "* Se debe preparar un (breve) Jupyter/IPython notebook que explique la actividad realizada y las conclusiones del trabajo\n",
        "* Fecha de discusión y entrega: 8 de Noviembre.\n",
        "* Formato de entrega: envı́o de link Github al correo electrónico del ayudante (*<francisco.mena.13@sansano.usm.cl>*) , incluyendo al profesor en copia (*<jnancu@inf.utfsm.cl>*). Por favor especificar el siguiente asunto: [Tarea2-INF393-II-2018]\n",
        "\n",
        "<hr style=\"height:2px;border:none\"/>\n",
        "\n",
        "### Paquetes de instalación\n",
        "\n",
        "Como es usual utilizaremos *numpy, scipy, matplotlib* y *sklearn*. Además de éstas se necesitará instalar **keras**, una librerı́a en python para prototipado rápido de modelos basados en redes neuronales, muy similar en espı́ritu a *sklearn*. La librerı́a puede usar *TensorFlow* o *Theano* como backend, siendo éstas las librerı́as más populares para desarrollar nuevos modelos de redes neuronales o implementar eficientemente modelos conocidos con fines prácticos. Para detalles sobre la instalación puede revisar [[1]](#refs) o escribir un email a su ayudante.\n",
        "\n",
        "\n",
        "\n",
        "La tarea se divide en secciones:\n",
        "\n",
        "[1.](#primero) Sentiment Analysis en Texto  \n",
        "[2.](#segundo) pendiente\n"
      ]
    },
    {
      "cell_type": "markdown",
      "metadata": {
        "id": "20En1-iRCJR-",
        "colab_type": "text"
      },
      "source": [
        "<a id=\"primero\"></a>\n",
        "\n",
        "## 1. Sentiment Analysis en Texto\n",
        "\n",
        "El análisis de emociones o sentimientos se refiere al proceso de extraer información acerca de la actitud\n",
        "que una persona (o grupo de ellas) manifiesta, en un determinado medio o formato digital, con respecto a un\n",
        "tópico o contexto de comunicación. Uno de los casos más estudiados corresponde a determinar la polaridad\n",
        "de un trozo de texto, es decir, clasificar una determinada evaluación escrita (*review*), en que una persona\n",
        "manifiesta una opinión, como *positiva*, *negativa* o *neutral*. Esto también ha sido extendido a otros medios, como lo es analizar la polaridad de textos en redes sociales.  La dificultad de este problema radica en el carácter altamente ambiguo e informal del lenguaje que utilizan naturalmente las personas ası́ como el manejo de negaciones, sarcasmo y abreviaciones en una frase.\n",
        "\n",
        "<img src=\"https://formtitanhelpdeskimage.s3.amazonaws.com/70c78f9df2fd5c130e7021644f78f4c5.jpg\" title=\"Title text\" width=\"40%\" />\n",
        "\n",
        "\n",
        "Los datos que usaremos para esta actividad corresponden a un subconjunto de los datos publicados en **Kaggle**,  en  el  contexto  de  una  competencia  organizada  por  la  Universidad  de  Stanford  [[2]](#refs).   Cada  registro disponible corresponderá a una opinión sobre una película, registrada sobre el sitio *Rotten Tomatoes*.  Para empezar  nos  limitaremos  a  estudiar  textos  anotados  como  positivos  o  negativos,  clases  que  codificaremos como +1 y 0 respectivamente. Los datos pueden ser descargados ejecutando el siguiente código en sistema Unix:\n",
        "```\n",
        "wget -O train_data.csv http://www.inf.utfsm.cl/~jnancu/stanford-subset/polarity.train\n",
        "wget -O test_data.csv http://www.inf.utfsm.cl/~jnancu/stanford-subset/polarity.dev\n",
        "```\n",
        "\n",
        "> Cargue los dos conjuntos de datos a ser trabajados, donde la etiqueta ya viene codificada y la dejaremos como negativo (0) y positivo (1)."
      ]
    },
    {
      "cell_type": "code",
      "metadata": {
        "id": "NYyZSj4uGEal",
        "colab_type": "code",
        "outputId": "871b09a3-68ef-4895-eea5-aa30075977c3",
        "colab": {
          "base_uri": "https://localhost:8080/",
          "height": 130
        }
      },
      "source": [
        "from google.colab import drive\n",
        "drive.mount('/content/drive')"
      ],
      "execution_count": 1,
      "outputs": [
        {
          "output_type": "stream",
          "text": [
            "Go to this URL in a browser: https://accounts.google.com/o/oauth2/auth?client_id=947318989803-6bn6qk8qdgf4n4g3pfee6491hc0brc4i.apps.googleusercontent.com&redirect_uri=urn%3aietf%3awg%3aoauth%3a2.0%3aoob&response_type=code&scope=email%20https%3a%2f%2fwww.googleapis.com%2fauth%2fdocs.test%20https%3a%2f%2fwww.googleapis.com%2fauth%2fdrive%20https%3a%2f%2fwww.googleapis.com%2fauth%2fdrive.photos.readonly%20https%3a%2f%2fwww.googleapis.com%2fauth%2fpeopleapi.readonly\n",
            "\n",
            "Enter your authorization code:\n",
            "··········\n",
            "Mounted at /content/drive\n"
          ],
          "name": "stdout"
        }
      ]
    },
    {
      "cell_type": "code",
      "metadata": {
        "id": "E-pt1KF4GMfJ",
        "colab_type": "code",
        "outputId": "39413035-dc70-4e43-a93c-624c365b6d0a",
        "colab": {
          "base_uri": "https://localhost:8080/",
          "height": 36
        }
      },
      "source": [
        "cd drive/My Drive/Tarea 2"
      ],
      "execution_count": 2,
      "outputs": [
        {
          "output_type": "stream",
          "text": [
            "/content/drive/My Drive/Tarea 2\n"
          ],
          "name": "stdout"
        }
      ]
    },
    {
      "cell_type": "code",
      "metadata": {
        "id": "FFB36NRdCJSC",
        "colab_type": "code",
        "colab": {}
      },
      "source": [
        "import pandas as pd\n",
        "\n",
        "ftr = open(\"train_data.csv\", \"r\",  encoding=\"ISO-8859-1\")\n",
        "rows = [line.split(\" \",1) for line in ftr.readlines()]\n",
        "df_train = pd.DataFrame(rows, columns=['Sentiment','Text'])\n",
        "df_train['Sentiment'] = (pd.to_numeric(df_train['Sentiment'])+1)/2 # 0 o 1\n",
        "\n",
        "fts = open(\"test_data.csv\", \"r\",  encoding=\"ISO-8859-1\")\n",
        "rows = [line.split(\" \",1) for line in fts.readlines()]\n",
        "df_test = pd.DataFrame(rows, columns=['Sentiment','Text'])\n",
        "df_test['Sentiment'] = (pd.to_numeric(df_test['Sentiment'])+1)/2 # 0 o 1\n",
        "\n",
        "df_train_text = df_train.Text\n",
        "df_test_text = df_test.Text\n",
        "labels_train = df_train.Sentiment.values\n",
        "labels_test = df_test.Sentiment.values"
      ],
      "execution_count": 0,
      "outputs": []
    },
    {
      "cell_type": "markdown",
      "metadata": {
        "id": "zLcPucAsCJSS",
        "colab_type": "text"
      },
      "source": [
        "> a) Describa los datos trabajados, como la cantidad de datos en cada conjunto, largo de los textos, la cantidad de ejemplo por cada clase, o alguna otra forma que piense que pueda ser útil para comprender el problema trabajado.\n"
      ]
    },
    {
      "cell_type": "code",
      "metadata": {
        "id": "9qzGYO6SCJSV",
        "colab_type": "code",
        "outputId": "a9323461-c990-4441-fe8d-2b65d0a24f8b",
        "colab": {
          "base_uri": "https://localhost:8080/",
          "height": 425
        }
      },
      "source": [
        "\n",
        "print(\"Descripcion datos de training:\\n\",df_train[\"Text\"].str.len().describe())\n",
        "print(\"Descripcion datos de test:\\n\",df_test[\"Text\"].str.len().describe())\n",
        "print(\"Forma de las labels Train:\",labels_train.shape)\n",
        "print(\"Forma de las labels Test:\",labels_test.shape)\n",
        "\n",
        "\n"
      ],
      "execution_count": 4,
      "outputs": [
        {
          "output_type": "stream",
          "text": [
            "Descripcion datos de training:\n",
            " count    3554.000000\n",
            "mean      114.707091\n",
            "std        51.523887\n",
            "min         7.000000\n",
            "25%        76.000000\n",
            "50%       111.000000\n",
            "75%       150.750000\n",
            "max       267.000000\n",
            "Name: Text, dtype: float64\n",
            "Descripcion datos de test:\n",
            " count    3554.000000\n",
            "mean      116.467923\n",
            "std        51.504231\n",
            "min         9.000000\n",
            "25%        78.000000\n",
            "50%       114.000000\n",
            "75%       151.000000\n",
            "max       268.000000\n",
            "Name: Text, dtype: float64\n",
            "Forma de las labels Train: (3554,)\n",
            "Forma de las labels Test: (3554,)\n"
          ],
          "name": "stdout"
        }
      ]
    },
    {
      "cell_type": "markdown",
      "metadata": {
        "id": "2tofXRYGCJSe",
        "colab_type": "text"
      },
      "source": [
        "Basicamente cada uno de los datos trabajados para training son vectores de 3554 datos, siendo text[n] asociado al label[n] correspondiente. Para test ocurre lo mismo. Ambos conjuntos poseen estadisticas similares.\n",
        "\n",
        "> b) Construya un conjunto de validación desde el conjunto de entrenamiento para seleccionar modelos. Decida el tamaño dada la cantidad de ejemplos que se tienen para entrenamiento."
      ]
    },
    {
      "cell_type": "code",
      "metadata": {
        "id": "On953ViWCJSg",
        "colab_type": "code",
        "colab": {}
      },
      "source": [
        "from sklearn.model_selection import train_test_split\n",
        "df_train_text, df_val_text, labels_train, labels_val  = train_test_split(df_train_text, labels_train, test_size= 1000, random_state=0)\n",
        "\n"
      ],
      "execution_count": 0,
      "outputs": []
    },
    {
      "cell_type": "code",
      "metadata": {
        "id": "SCdoMIxDCJSo",
        "colab_type": "code",
        "outputId": "e593187e-323e-4f41-8408-d28502cd0c78",
        "colab": {
          "base_uri": "https://localhost:8080/",
          "height": 91
        }
      },
      "source": [
        "print(df_train_text.shape)\n",
        "print(labels_train.shape)\n",
        "print(df_val_text.shape)\n",
        "print(labels_val.shape)\n"
      ],
      "execution_count": 6,
      "outputs": [
        {
          "output_type": "stream",
          "text": [
            "(2554,)\n",
            "(2554,)\n",
            "(1000,)\n",
            "(1000,)\n"
          ],
          "name": "stdout"
        }
      ]
    },
    {
      "cell_type": "markdown",
      "metadata": {
        "id": "JQbt3bs3CJSx",
        "colab_type": "text"
      },
      "source": [
        "Se considera un conjuto de validación de 1000 elementos, lo cual se acerca al 30% de la cantidad de datos totales.\n",
        "\n",
        "\n",
        "> c) Realice un pre-procesamiento a los textos para normalizar un poco su estructura, para ello utilice el código de ejemplo a continuación, donde se pasa el texto a minúsculas (*lower-casing*), se reducen las mútliples letras, se eliminan palabras sin significados como artículos, pronombres y preposiciones (*stop word removal* [[3]](#refs)), además de pasar las palabras a su tronco léxico con la técnica de *lemmatizer* [[4]](#refs). Comente la importancia de un correcto pre-procesamiento en el dominio de lenguaje natural."
      ]
    },
    {
      "cell_type": "code",
      "metadata": {
        "id": "szDeBO83CJSz",
        "colab_type": "code",
        "outputId": "60cc628a-12eb-4f75-82cf-b8295e41b6c4",
        "colab": {
          "base_uri": "https://localhost:8080/",
          "height": 128
        }
      },
      "source": [
        "import re, time\n",
        "import nltk\n",
        "\n",
        "nltk.download('stopwords')\n",
        "nltk.download('punkt')\n",
        "nltk.download('wordnet')\n",
        "from nltk.corpus import stopwords\n",
        "from nltk import WordNetLemmatizer, word_tokenize\n",
        "def base_word(word):\n",
        "    wordlemmatizer = WordNetLemmatizer()\n",
        "    return wordlemmatizer.lemmatize(word) \n",
        "def word_extractor(text):\n",
        "    commonwords = stopwords.words('english')\n",
        "    text = re.sub(r'([a-z])\\1+', r'\\1\\1',text) #substitute multiple letter by two\n",
        "    words = \"\"\n",
        "    wordtokens = [ base_word(word.lower()) for word in word_tokenize(text) ]\n",
        "    for word in wordtokens:\n",
        "        if word not in commonwords: #delete stopwords\n",
        "            words+=\" \"+word\n",
        "    return words\n",
        "\n",
        "texts_train = [word_extractor(text) for text in df_train_text]\n",
        "texts_val = [word_extractor(text) for text in df_val_text]\n",
        "texts_test = [word_extractor(text) for text in df_test_text]\n"
      ],
      "execution_count": 7,
      "outputs": [
        {
          "output_type": "stream",
          "text": [
            "[nltk_data] Downloading package stopwords to /root/nltk_data...\n",
            "[nltk_data]   Unzipping corpora/stopwords.zip.\n",
            "[nltk_data] Downloading package punkt to /root/nltk_data...\n",
            "[nltk_data]   Unzipping tokenizers/punkt.zip.\n",
            "[nltk_data] Downloading package wordnet to /root/nltk_data...\n",
            "[nltk_data]   Unzipping corpora/wordnet.zip.\n"
          ],
          "name": "stdout"
        }
      ]
    },
    {
      "cell_type": "markdown",
      "metadata": {
        "id": "k5a0Gqu9CJS6",
        "colab_type": "text"
      },
      "source": [
        "Word Extractor retorna las palabras claves de la sentencia, eliminando aquellas palabras comunes que no agregan valor significativo a la sentencia. Esto, junto a la normalización del texto a ingles y en minusculas permite obtener de manera mas facil el significado detras de cada oración y deberia facilitar su relacionamiento con la evaluacion que cada pelicula recibe.\n",
        "\n",
        "> d) Construya una representación vectorial a los textos de entrada para poder ser manejados y clasificados por los modelos de aprendizaje. Para ésto utilice el tipo de característica más común, que consiste en contar cuántas veces aparece cada términos/palabras en el texto, denominado **TF** (*term-frequency*). Para esto, se necesita contar con un vocabulario base, el cual se construirá a través de la unión de todas las palabras que observemos en los textos de entrenamiento ¿Cuáles son las palabras más frecuentes?"
      ]
    },
    {
      "cell_type": "code",
      "metadata": {
        "id": "wwXZaivxCJS9",
        "colab_type": "code",
        "outputId": "813760ee-c54f-4cb0-d5a6-c80b6920aaf9",
        "colab": {
          "base_uri": "https://localhost:8080/",
          "height": 128
        }
      },
      "source": [
        "import numpy as np\n",
        "from sklearn.feature_extraction.text import CountVectorizer\n",
        "vectorizer = CountVectorizer(ngram_range=(1, 1), binary=False) #TF representation\n",
        "\n",
        "vectorizer.fit(texts_train)\n",
        "features_train = vectorizer.transform(texts_train)\n",
        "\n",
        "features_val = vectorizer.transform(texts_val)\n",
        "\n",
        "features_test = vectorizer.transform(texts_test)\n",
        "\n",
        "vocab = vectorizer.get_feature_names()\n",
        "\n",
        "def mas_usadas(f,b):\n",
        "  dist=list(np.array(f.sum(axis=0)).reshape(-1,))\n",
        "  c=0\n",
        "  l=[]\n",
        "  d=dist\n",
        "  v=b[:]\n",
        "  for i in range(0,10):\n",
        "    pos=0\n",
        "    m=0\n",
        "    for j in range(0,len(d)):\n",
        "      if d[j]>m:\n",
        "          m=d[j]\n",
        "          pos=j\n",
        "    d.remove(m)\n",
        "    l.append(v[pos])\n",
        "    v.remove(v[pos])\n",
        "  return l\n",
        "\n",
        "print (\"Palabras mas usadas en los datos de Entrenamiento:\\n\",mas_usadas(features_train,vocab))\n",
        "print (\"Palabras mas usadas en los datos de Validacion:\\n\",mas_usadas(features_val,vocab))\n",
        "print (\"Palabras mas usadas en los datos de Test:\\n\",mas_usadas(features_test, vocab))\n",
        "\n",
        "\n"
      ],
      "execution_count": 8,
      "outputs": [
        {
          "output_type": "stream",
          "text": [
            "Palabras mas usadas en los datos de Entrenamiento:\n",
            " ['film', 'movie', 'one', 'ha', 'like', 'make', 'story', 'character', 'good', 'even']\n",
            "Palabras mas usadas en los datos de Validacion:\n",
            " ['film', 'movie', 'like', 'one', 'ha', 'time', 'comedy', 'doe', 'good', 'story']\n",
            "Palabras mas usadas en los datos de Test:\n",
            " ['film', 'movie', 'one', 'ha', 'like', 'story', 'character', 'time', 'make', 'good']\n"
          ],
          "name": "stdout"
        }
      ]
    },
    {
      "cell_type": "markdown",
      "metadata": {
        "id": "JNxCwmJaCJTF",
        "colab_type": "text"
      },
      "source": [
        "e) Para tener una visión distinta y entender mejor la representación vectorial realizada, visualice los datos en un plano 2D. Para ésto utilice la técnica **LSA** (*Latent Semantic Analysis*) [[5]](#refs) que a diferencia de PCA, **no centra** los datos antes de realizar la descomposicipon SVD, de ésta manera podrá visualizar el espacio semántico de \"conceptos\" latentes usados en la representación. Coloree cada texto en base a su clase ¿Qué indica lo observado? Comente e interprete los resultados"
      ]
    },
    {
      "cell_type": "code",
      "metadata": {
        "id": "43bWyx_uCJTH",
        "colab_type": "code",
        "outputId": "c76e75ce-a2db-4df8-b472-da5b871e5da7",
        "colab": {
          "base_uri": "https://localhost:8080/",
          "height": 320
        }
      },
      "source": [
        "from sklearn.decomposition import TruncatedSVD\n",
        "import matplotlib.pyplot as plt\n",
        "model = TruncatedSVD(n_components=2)\n",
        "model.fit(features_train)\n",
        "x_plot = model.transform(features_train)\n",
        "plt.figure(figsize=(10,5))\n",
        "plt.scatter(x_plot[:,0], x_plot[:,1], c=labels_train)\n",
        "plt.show()"
      ],
      "execution_count": 9,
      "outputs": [
        {
          "output_type": "display_data",
          "data": {
            "image/png": "[encoded data removed]",
            "text/plain": [
              "<Figure size 720x360 with 1 Axes>"
            ]
          },
          "metadata": {
            "tags": []
          }
        }
      ]
    },
    {
      "cell_type": "markdown",
      "metadata": {
        "id": "pFRhgXBGCJTN",
        "colab_type": "text"
      },
      "source": [
        "Se puede observar con LSA que los topicos determinados no diferencian bien entre las opiniones negativas y las positivas, lo que si nos permite observar es que entre las criticas existen tendencias de las cuales almenos 3 son notorias en este grafico, lo cual intuitivamente puede hacer referencia a la forma de escribir o a los modismos utilizados.\n",
        "\n",
        "> f) Entrene un modelo de Regresión Logística Regularizado (utilizando como penalizador la norma $l_2$). Varíe el parámetro de regularización $C$, en potencias de 10, midiendo el error de predicción obtenido sobre los datos de entrenamiento y validación, construya un gráfico que muestre la variación de ambos errores respecto al parámetro $C$. Explique el significado y valor esperado del parámetro de regularización.\n"
      ]
    },
    {
      "cell_type": "code",
      "metadata": {
        "id": "8tudgYXbCJTQ",
        "colab_type": "code",
        "outputId": "c2714066-8f04-4d0d-cb6f-88e01c0389cf",
        "colab": {
          "base_uri": "https://localhost:8080/",
          "height": 724
        }
      },
      "source": [
        "from sklearn.linear_model import LogisticRegression\n",
        "def do_LOGIT(x,y,xv,yv, param):\n",
        "    print(\"Param C= \",param)\n",
        "    model= LogisticRegression()\n",
        "    model.set_params(C=param)\n",
        "    model.fit(x,y)\n",
        "    train_acc = model.score(x,y)\n",
        "    test_acc = model.score(xv,yv)\n",
        "\n",
        "    return model, train_acc, test_acc\n",
        "Cs = [0.001, 0.01, 0.1 , 1 , 10, 100, 1000]\n",
        "Csp=[-3,-2,-1,0,1,2,3]\n",
        "\n",
        "train_l=[]\n",
        "test_l=[]\n",
        "for i in Cs:\n",
        "    model, train_acc, test_acc = do_LOGIT(features_train,labels_train,features_val,labels_val, param=i)\n",
        "    train_l.append(train_acc)\n",
        "    test_l.append(test_acc)\n",
        "    \n",
        "    \n",
        "plt.plot(Csp,train_l, label='Training')\n",
        "plt.plot(Csp,test_l, label='Validation')\n",
        "plt.xlabel(\"Potencia Parametro C\")\n",
        "plt.ylabel(\"Score\")\n",
        "plt.legend()\n"
      ],
      "execution_count": 10,
      "outputs": [
        {
          "output_type": "stream",
          "text": [
            "Param C=  0.001\n",
            "Param C=  0.01\n",
            "Param C=  0.1\n",
            "Param C=  1\n",
            "Param C=  10\n",
            "Param C=  100\n",
            "Param C=  1000\n"
          ],
          "name": "stdout"
        },
        {
          "output_type": "stream",
          "text": [
            "/usr/local/lib/python3.6/dist-packages/sklearn/linear_model/_logistic.py:940: ConvergenceWarning: lbfgs failed to converge (status=1):\n",
            "STOP: TOTAL NO. of ITERATIONS REACHED LIMIT.\n",
            "\n",
            "Increase the number of iterations (max_iter) or scale the data as shown in:\n",
            "    https://scikit-learn.org/stable/modules/preprocessing.html\n",
            "Please also refer to the documentation for alternative solver options:\n",
            "    https://scikit-learn.org/stable/modules/linear_model.html#logistic-regression\n",
            "  extra_warning_msg=_LOGISTIC_SOLVER_CONVERGENCE_MSG)\n",
            "/usr/local/lib/python3.6/dist-packages/sklearn/linear_model/_logistic.py:940: ConvergenceWarning: lbfgs failed to converge (status=1):\n",
            "STOP: TOTAL NO. of ITERATIONS REACHED LIMIT.\n",
            "\n",
            "Increase the number of iterations (max_iter) or scale the data as shown in:\n",
            "    https://scikit-learn.org/stable/modules/preprocessing.html\n",
            "Please also refer to the documentation for alternative solver options:\n",
            "    https://scikit-learn.org/stable/modules/linear_model.html#logistic-regression\n",
            "  extra_warning_msg=_LOGISTIC_SOLVER_CONVERGENCE_MSG)\n"
          ],
          "name": "stderr"
        },
        {
          "output_type": "execute_result",
          "data": {
            "text/plain": [
              "<matplotlib.legend.Legend at 0x7f06b4d6c240>"
            ]
          },
          "metadata": {
            "tags": []
          },
          "execution_count": 10
        },
        {
          "output_type": "display_data",
          "data": {
            "image/png": "[encoded data removed]",
            "text/plain": [
              "<Figure size 432x288 with 1 Axes>"
            ]
          },
          "metadata": {
            "tags": []
          }
        }
      ]
    },
    {
      "cell_type": "markdown",
      "metadata": {
        "id": "SM1aVTr-CJTX",
        "colab_type": "text"
      },
      "source": [
        "Se puede observar que tanto para los datos de training como los de validación, teniendo un parametro C=1 la probabilidad deja de variar notoriamente, vale decir, empieza a converger a un valor. Esto indica que el valor esperado de C seria 1. Se observa ademas que los scores tienden a 100% y a un valor cercano al 70% para training y validation respectivamente.\n",
        "\n",
        "g) Entrene una Máquina de Soporte Vectorial (SVM) con distintos kernels. Similar a lo anterior, construya un gráfico que muestre la variación de ambos errores respecto al parámetro de regularización 𝐶 para cada tipo de kernel que experimente. Explique el significado y valor esperado de los parámetros en este modelo."
      ]
    },
    {
      "cell_type": "code",
      "metadata": {
        "id": "0a4PutkCCJTc",
        "colab_type": "code",
        "outputId": "46a39f21-dad6-4b50-d52b-260301fe7e12",
        "colab": {
          "base_uri": "https://localhost:8080/",
          "height": 446
        }
      },
      "source": [
        "from sklearn.svm import SVC as SVM #SVC is for classification\n",
        "def do_SVM(x,y,xv,yv, param, kernel,probability=False):\n",
        "    print(\"Param C= \",param, 'Kernel= ', kernel)\n",
        "    model= SVM()\n",
        "    model.set_params(C=param,kernel=kernel, probability=probability) #try rbf and linear at least\n",
        "    model.fit(x,y)\n",
        "    train_acc = model.score(x,y)\n",
        "    test_acc = model.score(xv,yv)\n",
        "    return model, train_acc, test_acc\n",
        "\n",
        "train_l=[]\n",
        "test_l=[]\n",
        "for i in Cs:\n",
        "    model, train_acc, test_acc = do_SVM(features_train,labels_train,features_val,labels_val, i,\"linear\")\n",
        "    train_l.append(train_acc)\n",
        "    test_l.append(test_acc)\n",
        "print (train_l)\n",
        "plt.plot(Csp,train_l, label='Training')\n",
        "plt.plot(Csp,test_l, label='Validation')\n",
        "plt.xlabel(\"Potencia Parametro C\")\n",
        "plt.ylabel(\"Score\")\n",
        "plt.legend()\n"
      ],
      "execution_count": 11,
      "outputs": [
        {
          "output_type": "stream",
          "text": [
            "Param C=  0.001 Kernel=  linear\n",
            "Param C=  0.01 Kernel=  linear\n",
            "Param C=  0.1 Kernel=  linear\n",
            "Param C=  1 Kernel=  linear\n",
            "Param C=  10 Kernel=  linear\n",
            "Param C=  100 Kernel=  linear\n",
            "Param C=  1000 Kernel=  linear\n",
            "[0.5027407987470635, 0.7443226311667972, 0.9537979639780736, 0.9988253719655442, 1.0, 1.0, 1.0]\n"
          ],
          "name": "stdout"
        },
        {
          "output_type": "execute_result",
          "data": {
            "text/plain": [
              "<matplotlib.legend.Legend at 0x7f06b4ced828>"
            ]
          },
          "metadata": {
            "tags": []
          },
          "execution_count": 11
        },
        {
          "output_type": "display_data",
          "data": {
            "image/png": "[encoded data removed]",
            "text/plain": [
              "<Figure size 432x288 with 1 Axes>"
            ]
          },
          "metadata": {
            "tags": []
          }
        }
      ]
    },
    {
      "cell_type": "markdown",
      "metadata": {
        "id": "9ClK1NrHt3eo",
        "colab_type": "text"
      },
      "source": [
        "Al utilizar \"linear\" de kernel, se observa que el parametro C empieza a estancarse en 0,1 a diferencia del anterior modelo. Además, se observa el mismo comportamiento para ambos scores, dejando al training tendiendo a 100%, mientras que para validation tendiendo bajo el 70%."
      ]
    },
    {
      "cell_type": "code",
      "metadata": {
        "id": "XO5LJY0oCJTn",
        "colab_type": "code",
        "outputId": "93405459-aeb2-4b93-9ec2-5b53874731df",
        "colab": {
          "base_uri": "https://localhost:8080/",
          "height": 446
        }
      },
      "source": [
        "train_l=[]\n",
        "test_l=[]\n",
        "\n",
        "for i in Cs:\n",
        "    model, train_acc, test_acc = do_SVM(features_train,labels_train,features_val,labels_val, i,\"poly\")\n",
        "    train_l.append(train_acc)\n",
        "    test_l.append(test_acc)\n",
        "print (train_l)\n",
        "\n",
        "plt.plot(Csp,train_l, label='Training')\n",
        "plt.plot(Csp,test_l, label='Validation')\n",
        "plt.xlabel(\"Potencia Parametro C\")\n",
        "plt.ylabel(\"Score\")\n",
        "plt.legend()"
      ],
      "execution_count": 12,
      "outputs": [
        {
          "output_type": "stream",
          "text": [
            "Param C=  0.001 Kernel=  poly\n",
            "Param C=  0.01 Kernel=  poly\n",
            "Param C=  0.1 Kernel=  poly\n",
            "Param C=  1 Kernel=  poly\n",
            "Param C=  10 Kernel=  poly\n",
            "Param C=  100 Kernel=  poly\n",
            "Param C=  1000 Kernel=  poly\n",
            "[0.5027407987470635, 0.5027407987470635, 0.5877055599060298, 0.9937353171495693, 0.9984338292873923, 0.9996084573218481, 1.0]\n"
          ],
          "name": "stdout"
        },
        {
          "output_type": "execute_result",
          "data": {
            "text/plain": [
              "<matplotlib.legend.Legend at 0x7f06b4c4dcf8>"
            ]
          },
          "metadata": {
            "tags": []
          },
          "execution_count": 12
        },
        {
          "output_type": "display_data",
          "data": {
            "image/png": "[encoded data removed]",
            "text/plain": [
              "<Figure size 432x288 with 1 Axes>"
            ]
          },
          "metadata": {
            "tags": []
          }
        }
      ]
    },
    {
      "cell_type": "markdown",
      "metadata": {
        "id": "KxmEkSW5u3LF",
        "colab_type": "text"
      },
      "source": [
        "Se observa que para kernel polinomial el parametro C esperado es 1 y que la estabilización es similar a los casos anteriores, lo que cambia notoriamente es como afecta en valor de C para potencias mas bajas y como el score de validación varia de forma mas inestable, bajando para potencias altas de C."
      ]
    },
    {
      "cell_type": "code",
      "metadata": {
        "id": "B1e6la0OCJT0",
        "colab_type": "code",
        "outputId": "1442e1be-d121-4913-ce1f-2ec7db3db280",
        "colab": {
          "base_uri": "https://localhost:8080/",
          "height": 446
        }
      },
      "source": [
        "train_l=[]\n",
        "test_l=[]\n",
        "for i in Cs:\n",
        "    model, train_acc, test_acc = do_SVM(features_train,labels_train,features_val,labels_val, i,\"rbf\")\n",
        "    train_l.append(train_acc)\n",
        "    test_l.append(test_acc)\n",
        "print (train_l)\n",
        "\n",
        "plt.plot(Csp,train_l, label='Training')\n",
        "plt.plot(Csp,test_l, label='Validation')\n",
        "plt.xlabel(\"Potencia Parametro C\")\n",
        "plt.ylabel(\"Acc\")\n",
        "plt.legend()"
      ],
      "execution_count": 13,
      "outputs": [
        {
          "output_type": "stream",
          "text": [
            "Param C=  0.001 Kernel=  rbf\n",
            "Param C=  0.01 Kernel=  rbf\n",
            "Param C=  0.1 Kernel=  rbf\n",
            "Param C=  1 Kernel=  rbf\n",
            "Param C=  10 Kernel=  rbf\n",
            "Param C=  100 Kernel=  rbf\n",
            "Param C=  1000 Kernel=  rbf\n",
            "[0.5027407987470635, 0.5027407987470635, 0.5101801096319499, 0.9870790916209867, 1.0, 1.0, 1.0]\n"
          ],
          "name": "stdout"
        },
        {
          "output_type": "execute_result",
          "data": {
            "text/plain": [
              "<matplotlib.legend.Legend at 0x7f06b4bb2f28>"
            ]
          },
          "metadata": {
            "tags": []
          },
          "execution_count": 13
        },
        {
          "output_type": "display_data",
          "data": {
            "image/png": "[encoded data removed]",
            "text/plain": [
              "<Figure size 432x288 with 1 Axes>"
            ]
          },
          "metadata": {
            "tags": []
          }
        }
      ]
    },
    {
      "cell_type": "markdown",
      "metadata": {
        "id": "-BYCFARjCJT-",
        "colab_type": "text"
      },
      "source": [
        "Para kernel rbf(radial basis function) se observa que el valor esperado para C es 10, y que su comportamiento para valores mas altos de C obtiene scores iguales consistentemente, mientras que para valores con potencias muy bajas para C el aprendizaje no se logra apropiadamente.\n",
        "\n",
        "> h) Utilice el algoritmo de similaridad k-NN para intentar resolver el problema. Varíe el parámetro de los vecinos $k$ en un rango que estime conveniente y realice graficos de errores como en las preguntas anteriores. Comente sobre el valor esperado de este parámetro.\n"
      ]
    },
    {
      "cell_type": "code",
      "metadata": {
        "id": "bjDenxmICJUB",
        "colab_type": "code",
        "outputId": "beab46c3-04bd-41dc-fd2e-ab754c244736",
        "colab": {
          "base_uri": "https://localhost:8080/",
          "height": 558
        }
      },
      "source": [
        "from sklearn.neighbors import KNeighborsClassifier\n",
        "def do_KNN(x,y,xv,yv, param):\n",
        "    model = KNeighborsClassifier()\n",
        "    print(\"Param K= \",param)\n",
        "    model.set_params(n_neighbors=param)\n",
        "    model.fit(x,y)\n",
        "    train_acc = model.score(x,y)\n",
        "    test_acc = model.score(xv,yv)\n",
        "    return model, train_acc, test_acc\n",
        "#Ks = np.arange(1, features_train.shape[1], 20)\n",
        "\n",
        "Ks=(1,2,4,8,16,32,64,128,256,512,1024)\n",
        "print(Ks)\n",
        "\n",
        "train_l=[]\n",
        "test_l=[]\n",
        "for i in Ks:\n",
        "    model, train_acc, test_acc = do_KNN(features_train,labels_train,features_val,labels_val, i)\n",
        "    train_l.append(train_acc)\n",
        "    test_l.append(test_acc)\n",
        "print (train_l)\n",
        "\n",
        "plt.plot(Ks,train_l, label='Training')\n",
        "plt.plot(Ks,test_l, label='Validation')\n",
        "plt.xlabel(\"Parametro K\")\n",
        "plt.ylabel(\"Acc\")\n",
        "plt.legend()"
      ],
      "execution_count": 14,
      "outputs": [
        {
          "output_type": "stream",
          "text": [
            "(1, 2, 4, 8, 16, 32, 64, 128, 256, 512, 1024)\n",
            "Param K=  1\n",
            "Param K=  2\n",
            "Param K=  4\n",
            "Param K=  8\n",
            "Param K=  16\n",
            "Param K=  32\n",
            "Param K=  64\n",
            "Param K=  128\n",
            "Param K=  256\n",
            "Param K=  512\n",
            "Param K=  1024\n",
            "[1.0, 0.8931088488645262, 0.7533281127642913, 0.7388410336726703, 0.6511354737666406, 0.6225528582615505, 0.5974941268598277, 0.5595144870790916, 0.6448707909162099, 0.5293657008613939, 0.5066562255285826]\n"
          ],
          "name": "stdout"
        },
        {
          "output_type": "execute_result",
          "data": {
            "text/plain": [
              "<matplotlib.legend.Legend at 0x7f06b4204978>"
            ]
          },
          "metadata": {
            "tags": []
          },
          "execution_count": 14
        },
        {
          "output_type": "display_data",
          "data": {
            "image/png": "[encoded data removed]",
            "text/plain": [
              "<Figure size 432x288 with 1 Axes>"
            ]
          },
          "metadata": {
            "tags": []
          }
        }
      ]
    },
    {
      "cell_type": "markdown",
      "metadata": {
        "id": "jVjez63oCJUG",
        "colab_type": "text"
      },
      "source": [
        "Se observa que, mientras mas K se consideran, peor es el entrenamiento, podria considerarse un valor en torno a K=256 como buen valor, dado que con pocos K naturalmente el score sera alto en training pero estara sobre ajustado, mientras que en torno a 256 se denota un aumento en el score.\n",
        "\n",
        "> i) Entrene un Arbol de Decisión para resolver el problema. Varíe los parámetros de *max depth* y *min samples split* de manera separada, constuyendo gráficos de error respecto a estos parámetros. *Los valores que se presentan son sugerencias, no es necesario utilizar los mismos*. Comente sobre la diferencia entre la selección de estos dos parámetros.\n"
      ]
    },
    {
      "cell_type": "code",
      "metadata": {
        "id": "r0h-PkfACJUJ",
        "colab_type": "code",
        "outputId": "e35d409c-a8e7-43e8-c131-d2e93c134eb8",
        "colab": {
          "base_uri": "https://localhost:8080/",
          "height": 336
        }
      },
      "source": [
        "from sklearn.tree import DecisionTreeClassifier as Tree\n",
        "def do_Tree(x,y,xv,yv, param_d, param_m=2):\n",
        "    model= Tree()\n",
        "    #print(\"Param Max-D= \",param_d, 'Min-samples-S= ', param_m)\n",
        "    model.set_params(max_depth=param_d, min_samples_split=param_m) \n",
        "    model.fit(x,y)\n",
        "    train_acc = model.score(x,y)\n",
        "    test_acc = model.score(xv,yv)\n",
        "    return model, train_acc, test_acc\n",
        "Depths = np.arange(1, features_train.shape[1], 100 ) #choose steps\n",
        "SamplesS = np.arange(2, features_train.shape[0] , 100 ) #choose steps\n",
        "\n",
        "train_l=[]\n",
        "test_l=[]\n",
        "for i in Depths:\n",
        "    model, train_acc, test_acc = do_Tree(features_train,labels_train,features_val,labels_val, i, 50)\n",
        "    train_l.append(train_acc)\n",
        "    test_l.append(test_acc)\n",
        "print (train_l)\n",
        "\n",
        "plt.plot(Depths,train_l, label='Training')\n",
        "plt.plot(Depths,test_l, label='Validation')\n",
        "plt.xlabel(\"Depths\")\n",
        "plt.ylabel(\"Acc\")\n",
        "plt.legend()\n",
        "\n"
      ],
      "execution_count": 15,
      "outputs": [
        {
          "output_type": "stream",
          "text": [
            "[0.514487079091621, 0.8112764291307752, 0.8707909162098669, 0.8970242756460454, 0.9013312451057165, 0.9119028974158183, 0.8974158183241974, 0.90407204385278, 0.9075959279561472, 0.8981989036805011, 0.90407204385278, 0.9028974158183242, 0.9048551292090838, 0.898981989036805, 0.9056382145653876, 0.9075959279561472, 0.894283476898982, 0.9115113547376664, 0.898590446358653, 0.9095536413469069, 0.9044635865309318, 0.9001566170712608, 0.90407204385278, 0.9075959279561472, 0.9001566170712608, 0.9032889584964762, 0.9103367267032106, 0.9052466718872357, 0.8974158183241974, 0.9064212999216915, 0.9036805011746281, 0.9122944400939702, 0.9032889584964762, 0.9107282693813625, 0.9072043852779953, 0.9158183241973376, 0.9083790133124511, 0.9126859827721222, 0.8923257635082223, 0.9017227877838685, 0.9025058731401723, 0.9095536413469069, 0.9032889584964762, 0.90407204385278, 0.898981989036805, 0.898590446358653, 0.9068128425998434, 0.9111198120595145, 0.9064212999216915, 0.9028974158183242, 0.9036805011746281, 0.9052466718872357, 0.9068128425998434, 0.898590446358653, 0.9017227877838685, 0.9083790133124511, 0.9025058731401723, 0.9060297572435395, 0.9056382145653876, 0.8978073610023493, 0.9044635865309318, 0.9099451840250588, 0.9072043852779953, 0.9021143304620204, 0.9056382145653876, 0.90407204385278, 0.9025058731401723, 0.8970242756460454, 0.90407204385278, 0.9130775254502741, 0.90407204385278, 0.8981989036805011, 0.9154267815191856, 0.9064212999216915, 0.908770555990603, 0.9028974158183242, 0.8993735317149569, 0.9052466718872357, 0.9048551292090838, 0.9025058731401723, 0.9036805011746281]\n"
          ],
          "name": "stdout"
        },
        {
          "output_type": "execute_result",
          "data": {
            "text/plain": [
              "<matplotlib.legend.Legend at 0x7f06b4db12e8>"
            ]
          },
          "metadata": {
            "tags": []
          },
          "execution_count": 15
        },
        {
          "output_type": "display_data",
          "data": {
            "image/png": "[encoded data removed]",
            "text/plain": [
              "<Figure size 432x288 with 1 Axes>"
            ]
          },
          "metadata": {
            "tags": []
          }
        }
      ]
    },
    {
      "cell_type": "markdown",
      "metadata": {
        "id": "nEEKaS5T3raB",
        "colab_type": "text"
      },
      "source": [
        "Se puede observar que al aumentar la profundidad maxima del arbol, este sigue obteniendo scores consistentes basandose en samples constantes."
      ]
    },
    {
      "cell_type": "code",
      "metadata": {
        "id": "LdgkOKEuCJUP",
        "colab_type": "code",
        "outputId": "a7eb32dc-9872-4904-d195-3cc7c4434b24",
        "colab": {
          "base_uri": "https://localhost:8080/",
          "height": 336
        }
      },
      "source": [
        "train_l=[]\n",
        "test_l=[]\n",
        "for i in SamplesS:\n",
        "    model, train_acc, test_acc = do_Tree(features_train,labels_train,features_val,labels_val, 50, i)\n",
        "    train_l.append(train_acc)\n",
        "    test_l.append(test_acc)\n",
        "print (train_l)\n",
        "\n",
        "plt.plot(SamplesS,train_l, label='Training')\n",
        "plt.plot(SamplesS,test_l, label='Validation')\n",
        "plt.xlabel(\"SamplesS\")\n",
        "plt.ylabel(\"Acc\")\n",
        "plt.legend()\n"
      ],
      "execution_count": 16,
      "outputs": [
        {
          "output_type": "stream",
          "text": [
            "[0.764682850430697, 0.7083007047768207, 0.706342991386061, 0.6871574001566171, 0.6664056382145653, 0.663664839467502, 0.6664056382145653, 0.6664056382145653, 0.6648394675019577, 0.6664056382145653, 0.6664056382145653, 0.6664056382145653, 0.6664056382145653, 0.6664056382145653, 0.6613155833985904, 0.639389193422083, 0.6288175411119812, 0.59592795614722, 0.5787000783085356, 0.5708692247454973, 0.5708692247454973, 0.5708692247454973, 0.5708692247454973, 0.5422866092404072, 0.5293657008613939, 0.514487079091621]\n"
          ],
          "name": "stdout"
        },
        {
          "output_type": "execute_result",
          "data": {
            "text/plain": [
              "<matplotlib.legend.Legend at 0x7f06b3ab0400>"
            ]
          },
          "metadata": {
            "tags": []
          },
          "execution_count": 16
        },
        {
          "output_type": "display_data",
          "data": {
            "image/png": "[encoded data removed]",
            "text/plain": [
              "<Figure size 432x288 with 1 Axes>"
            ]
          },
          "metadata": {
            "tags": []
          }
        }
      ]
    },
    {
      "cell_type": "markdown",
      "metadata": {
        "id": "H1w36x3GCJUU",
        "colab_type": "text"
      },
      "source": [
        "Cuando varian las cantidad de samples a una profundidad maxima constante, el entrenamiento pierde score, es producto de que a mayor sample se produce una peor diferenciación entre los datos.\n",
        "\n",
        "\n",
        "\n",
        "> j) Utilice una Red Neuronal Artificial (ANN) para intentar resolver el problema, como la que se señala a continuación (utilizando el framework de *keras*): entrenada por 25 iteraciones al dataset (*epochs*) con un tamaño de *batch* de 128 para las actualizaciones de los pesos, utilizando *SGD* con una tasa de aprendizaje $0.1$ sobre la función de pérdida binaria de clasificación. La arquitectura de la red contiene una capa de salida con una única neurona que indica la probabilidad de que el texto sea positivo, una capa escondida con número de neuronas $N_h$ y la capa de entrada implícita para $x$. Varíe el parámetro que corresponde al número de neuronas en la capa oculta $N_h$, en potencias de 2, y vuelva a realizar el gráfico de error con respecto al parámetro. Comente."
      ]
    },
    {
      "cell_type": "code",
      "metadata": {
        "id": "HEDxeVWiCJUW",
        "colab_type": "code",
        "outputId": "320caf61-0987-4086-8ec9-814d2667448c",
        "colab": {
          "base_uri": "https://localhost:8080/",
          "height": 1000
        }
      },
      "source": [
        "from keras.models import Sequential\n",
        "from keras.layers import Dense\n",
        "from keras.optimizers import SGD\n",
        "def do_ANN(x,y, xv,yv, param):\n",
        "    print(\"Neuron hidden = \",param)\n",
        "    model = Sequential()\n",
        "    model.add(Dense(units=param, input_dim=x.shape[1], activation=\"sigmoid\"))\n",
        "    model.add(Dense(1, activation=\"sigmoid\"))\n",
        "    model.compile(optimizer=SGD(lr=0.1), loss=\"binary_crossentropy\", metrics=[\"accuracy\"])\n",
        "    model.fit(x, y, epochs=25, batch_size=128, verbose=0)\n",
        "    train_acc = model.evaluate(x,y, verbose=0)[1] #in position 0 is the loss\n",
        "    test_acc = model.evaluate(xv,yv, verbose=0)[1]\n",
        "    return model, train_acc, test_acc\n",
        "N_h = [2**i for i in range(1,6)]\n",
        "print (N_h)\n",
        "train_l=[]\n",
        "test_l=[]\n",
        "for i in N_h:\n",
        "    model, train_acc, test_acc = do_ANN(features_train,labels_train,features_val,labels_val, i)\n",
        "    train_l.append(train_acc)\n",
        "    test_l.append(test_acc)\n",
        "print (train_l)\n",
        "\n",
        "plt.plot(N_h,train_l, label='Training')\n",
        "plt.plot(N_h,test_l, label='Validation')\n",
        "plt.xlabel(\"N_h\")\n",
        "plt.ylabel(\"Acc\")\n",
        "plt.legend()\n"
      ],
      "execution_count": 17,
      "outputs": [
        {
          "output_type": "stream",
          "text": [
            "Using TensorFlow backend.\n"
          ],
          "name": "stderr"
        },
        {
          "output_type": "display_data",
          "data": {
            "text/html": [
              "<p style=\"color: red;\">\n",
              "The default version of TensorFlow in Colab will soon switch to TensorFlow 2.x.<br>\n",
              "We recommend you <a href=\"https://www.tensorflow.org/guide/migrate\" target=\"_blank\">upgrade</a> now \n",
              "or ensure your notebook will continue to use TensorFlow 1.x via the <code>%tensorflow_version 1.x</code> magic:\n",
              "<a href=\"https://colab.research.google.com/notebooks/tensorflow_version.ipynb\" target=\"_blank\">more info</a>.</p>\n"
            ],
            "text/plain": [
              "<IPython.core.display.HTML object>"
            ]
          },
          "metadata": {
            "tags": []
          }
        },
        {
          "output_type": "stream",
          "text": [
            "[2, 4, 8, 16, 32]\n",
            "Neuron hidden =  2\n",
            "WARNING:tensorflow:From /usr/local/lib/python3.6/dist-packages/keras/backend/tensorflow_backend.py:66: The name tf.get_default_graph is deprecated. Please use tf.compat.v1.get_default_graph instead.\n",
            "\n",
            "WARNING:tensorflow:From /usr/local/lib/python3.6/dist-packages/keras/backend/tensorflow_backend.py:541: The name tf.placeholder is deprecated. Please use tf.compat.v1.placeholder instead.\n",
            "\n",
            "WARNING:tensorflow:From /usr/local/lib/python3.6/dist-packages/keras/backend/tensorflow_backend.py:4432: The name tf.random_uniform is deprecated. Please use tf.random.uniform instead.\n",
            "\n",
            "WARNING:tensorflow:From /usr/local/lib/python3.6/dist-packages/keras/optimizers.py:793: The name tf.train.Optimizer is deprecated. Please use tf.compat.v1.train.Optimizer instead.\n",
            "\n",
            "WARNING:tensorflow:From /usr/local/lib/python3.6/dist-packages/keras/backend/tensorflow_backend.py:3657: The name tf.log is deprecated. Please use tf.math.log instead.\n",
            "\n",
            "WARNING:tensorflow:From /tensorflow-1.15.0/python3.6/tensorflow_core/python/ops/nn_impl.py:183: where (from tensorflow.python.ops.array_ops) is deprecated and will be removed in a future version.\n",
            "Instructions for updating:\n",
            "Use tf.where in 2.0, which has the same broadcast rule as np.where\n",
            "WARNING:tensorflow:From /usr/local/lib/python3.6/dist-packages/keras/backend/tensorflow_backend.py:1033: The name tf.assign_add is deprecated. Please use tf.compat.v1.assign_add instead.\n",
            "\n",
            "WARNING:tensorflow:From /usr/local/lib/python3.6/dist-packages/keras/backend/tensorflow_backend.py:1020: The name tf.assign is deprecated. Please use tf.compat.v1.assign instead.\n",
            "\n",
            "WARNING:tensorflow:From /usr/local/lib/python3.6/dist-packages/keras/backend/tensorflow_backend.py:3005: The name tf.Session is deprecated. Please use tf.compat.v1.Session instead.\n",
            "\n",
            "WARNING:tensorflow:From /usr/local/lib/python3.6/dist-packages/keras/backend/tensorflow_backend.py:190: The name tf.get_default_session is deprecated. Please use tf.compat.v1.get_default_session instead.\n",
            "\n",
            "WARNING:tensorflow:From /usr/local/lib/python3.6/dist-packages/keras/backend/tensorflow_backend.py:197: The name tf.ConfigProto is deprecated. Please use tf.compat.v1.ConfigProto instead.\n",
            "\n",
            "WARNING:tensorflow:From /usr/local/lib/python3.6/dist-packages/keras/backend/tensorflow_backend.py:207: The name tf.global_variables is deprecated. Please use tf.compat.v1.global_variables instead.\n",
            "\n",
            "WARNING:tensorflow:From /usr/local/lib/python3.6/dist-packages/keras/backend/tensorflow_backend.py:216: The name tf.is_variable_initialized is deprecated. Please use tf.compat.v1.is_variable_initialized instead.\n",
            "\n",
            "WARNING:tensorflow:From /usr/local/lib/python3.6/dist-packages/keras/backend/tensorflow_backend.py:223: The name tf.variables_initializer is deprecated. Please use tf.compat.v1.variables_initializer instead.\n",
            "\n",
            "Neuron hidden =  4\n",
            "Neuron hidden =  8\n",
            "Neuron hidden =  16\n",
            "Neuron hidden =  32\n",
            "[0.6914643695696127, 0.7079091623320464, 0.6656225527649104, 0.6969459673904682, 0.7451057163830744]\n"
          ],
          "name": "stdout"
        },
        {
          "output_type": "execute_result",
          "data": {
            "text/plain": [
              "<matplotlib.legend.Legend at 0x7f0674cf67b8>"
            ]
          },
          "metadata": {
            "tags": []
          },
          "execution_count": 17
        },
        {
          "output_type": "display_data",
          "data": {
            "image/png": "[encoded data removed]",
            "text/plain": [
              "<Figure size 432x288 with 1 Axes>"
            ]
          },
          "metadata": {
            "tags": []
          }
        }
      ]
    },
    {
      "cell_type": "markdown",
      "metadata": {
        "id": "RSwU7s6ZVY-d",
        "colab_type": "text"
      },
      "source": [
        "Se puede observar que al aumentar la cantidad de neuronas sobre la misma capa oculta, el modelo no mejora su score. Para tener un punto de referencia se modela el mismo problema utilizando \"relu\" en vez de \"sigmoid\" en la capa oculta."
      ]
    },
    {
      "cell_type": "code",
      "metadata": {
        "id": "jT1ZztIxVktH",
        "colab_type": "code",
        "outputId": "96e66502-596b-4dd5-8e4c-c332b46415b5",
        "colab": {
          "base_uri": "https://localhost:8080/",
          "height": 428
        }
      },
      "source": [
        "def do_ANN(x,y, xv,yv, param):\n",
        "    print(\"Neuron hidden = \",param)\n",
        "    model = Sequential()\n",
        "    model.add(Dense(units=param, input_dim=x.shape[1], activation=\"relu\"))\n",
        "    model.add(Dense(1, activation=\"sigmoid\"))\n",
        "    model.compile(optimizer=SGD(lr=0.1), loss=\"binary_crossentropy\", metrics=[\"accuracy\"])\n",
        "    model.fit(x, y, epochs=25, batch_size=128, verbose=0)\n",
        "    train_acc = model.evaluate(x,y, verbose=0)[1] #in position 0 is the loss\n",
        "    test_acc = model.evaluate(xv,yv, verbose=0)[1]\n",
        "    return model, train_acc, test_acc\n",
        "N_h = [2**i for i in range(1,6)]\n",
        "print (N_h)\n",
        "train_l=[]\n",
        "test_l=[]\n",
        "for i in N_h:\n",
        "    model, train_acc, test_acc = do_ANN(features_train,labels_train,features_val,labels_val, i)\n",
        "    train_l.append(train_acc)\n",
        "    test_l.append(test_acc)\n",
        "print (train_l)\n",
        "\n",
        "plt.plot(N_h,train_l, label='Training')\n",
        "plt.plot(N_h,test_l, label='Validation')\n",
        "plt.xlabel(\"N_h\")\n",
        "plt.ylabel(\"Acc\")\n",
        "plt.legend()"
      ],
      "execution_count": 18,
      "outputs": [
        {
          "output_type": "stream",
          "text": [
            "[2, 4, 8, 16, 32]\n",
            "Neuron hidden =  2\n",
            "Neuron hidden =  4\n",
            "Neuron hidden =  8\n",
            "Neuron hidden =  16\n",
            "Neuron hidden =  32\n",
            "[0.9236491778537269, 0.8688332029591339, 0.8872357087855985, 0.8970242757393965, 0.8731401720920763]\n"
          ],
          "name": "stdout"
        },
        {
          "output_type": "execute_result",
          "data": {
            "text/plain": [
              "<matplotlib.legend.Legend at 0x7f06748cf9e8>"
            ]
          },
          "metadata": {
            "tags": []
          },
          "execution_count": 18
        },
        {
          "output_type": "display_data",
          "data": {
            "image/png": "[encoded data removed]",
            "text/plain": [
              "<Figure size 432x288 with 1 Axes>"
            ]
          },
          "metadata": {
            "tags": []
          }
        }
      ]
    },
    {
      "cell_type": "markdown",
      "metadata": {
        "id": "ayS6PdBUYT88",
        "colab_type": "text"
      },
      "source": [
        "Utilizando distinto kernel se obtiene mucho mejor resultado con ANN, esto puede ser principalmente por la naturaleza del problema."
      ]
    },
    {
      "cell_type": "markdown",
      "metadata": {
        "id": "0IKAdz3UTTtS",
        "colab_type": "text"
      },
      "source": [
        "\n",
        "---\n",
        "\n",
        "\n",
        "\n",
        "\n",
        "k) Ahora evalúe sobre el conjunto de pruebas el mejor modelo obtenido, seleccionado en base a la métrica de desempeño en el conjunto de validación. Comente sobre la calidad obtenida en el problema trabajado ¿Es un buen valor? ¿Cuál podría ser un valor de referencia?\n",
        "\n",
        "Se selecciona SVM con rbf parametro C=10 ya que es el resultado sobre la validación con mejor score."
      ]
    },
    {
      "cell_type": "code",
      "metadata": {
        "id": "MaS6xh1-TxAW",
        "colab_type": "code",
        "outputId": "1d95670f-7307-4536-b1c0-9c0d69575c79",
        "colab": {
          "base_uri": "https://localhost:8080/",
          "height": 54
        }
      },
      "source": [
        "model, train_acc, test_acc = do_SVM(features_train,labels_train,features_test,labels_test,10,\"rbf\", probability=True)\n",
        "print (test_acc)"
      ],
      "execution_count": 19,
      "outputs": [
        {
          "output_type": "stream",
          "text": [
            "Param C=  10 Kernel=  rbf\n",
            "0.7025886325267304\n"
          ],
          "name": "stdout"
        }
      ]
    },
    {
      "cell_type": "markdown",
      "metadata": {
        "id": "0G_7dvaCUO69",
        "colab_type": "text"
      },
      "source": [
        "Es un buen valor, dado que el aprendizaje obtuvo un score mejor a obtener una predicción de forma mas arbitatria (como tirar una moneda). Un buen punto de referencia para esto fue el resultado de score en la validación del modelo.\n",
        "\n",
        "l) Para comparar sus resultados utilice el modelo VADER (Valence Aware Dictionary and sEntiment Reasoner) [6], el cual entrega una score de predicción a nivel léxico (de palabras que comúnmente se asocian a una orientiación positiva o negativa). Este modelo construido manualmente no requiere entrenamiento, por lo que solo debe evaluar en conjunto de pruebas realizando predicciones del texto bruto (sin pre-procesamiento). Comente."
      ]
    },
    {
      "cell_type": "code",
      "metadata": {
        "id": "CUH7RZ5QQxYf",
        "colab_type": "code",
        "outputId": "8ec663b6-341b-4505-b045-2b02a7a989d9",
        "colab": {
          "base_uri": "https://localhost:8080/",
          "height": 130
        }
      },
      "source": [
        "!pip install vaderSentiment"
      ],
      "execution_count": 20,
      "outputs": [
        {
          "output_type": "stream",
          "text": [
            "Collecting vaderSentiment\n",
            "\u001b[?25l  Downloading https://files.pythonhosted.org/packages/86/9e/c53e1fc61aac5ee490a6ac5e21b1ac04e55a7c2aba647bb8411c9aadf24e/vaderSentiment-3.2.1-py2.py3-none-any.whl (125kB)\n",
            "\r\u001b[K     |██▋                             | 10kB 19.1MB/s eta 0:00:01\r\u001b[K     |█████▏                          | 20kB 1.7MB/s eta 0:00:01\r\u001b[K     |███████▉                        | 30kB 2.4MB/s eta 0:00:01\r\u001b[K     |██████████▍                     | 40kB 1.7MB/s eta 0:00:01\r\u001b[K     |█████████████                   | 51kB 1.9MB/s eta 0:00:01\r\u001b[K     |███████████████▋                | 61kB 2.3MB/s eta 0:00:01\r\u001b[K     |██████████████████▎             | 71kB 2.4MB/s eta 0:00:01\r\u001b[K     |████████████████████▉           | 81kB 2.6MB/s eta 0:00:01\r\u001b[K     |███████████████████████▍        | 92kB 2.9MB/s eta 0:00:01\r\u001b[K     |██████████████████████████      | 102kB 2.8MB/s eta 0:00:01\r\u001b[K     |████████████████████████████▋   | 112kB 2.8MB/s eta 0:00:01\r\u001b[K     |███████████████████████████████▎| 122kB 2.8MB/s eta 0:00:01\r\u001b[K     |████████████████████████████████| 133kB 2.8MB/s \n",
            "\u001b[?25hInstalling collected packages: vaderSentiment\n",
            "Successfully installed vaderSentiment-3.2.1\n"
          ],
          "name": "stdout"
        }
      ]
    },
    {
      "cell_type": "code",
      "metadata": {
        "id": "vYd2OKkBURLr",
        "colab_type": "code",
        "outputId": "e62b5904-2780-4a15-9729-d3144721da78",
        "colab": {
          "base_uri": "https://localhost:8080/",
          "height": 36
        }
      },
      "source": [
        "from vaderSentiment.vaderSentiment import SentimentIntensityAnalyzer \n",
        "def vader_predict(sentences): \n",
        "    sid_obj = SentimentIntensityAnalyzer() \n",
        "    sent_v = []\n",
        "    for text in sentences:\n",
        "        sentiment_dict = sid_obj.polarity_scores(text) \n",
        "        if sentiment_dict[\"pos\"] > sentiment_dict[\"neg\"]: #based on scores\n",
        "            sent_v.append(1)\n",
        "        else:\n",
        "            sent_v.append(0)\n",
        "    return np.asarray(sent_v)\n",
        "vader_pred_test = vader_predict(df_test_text) \n",
        "from sklearn.metrics import accuracy_score\n",
        "accuracy_score(labels_test, vader_pred_test)"
      ],
      "execution_count": 21,
      "outputs": [
        {
          "output_type": "execute_result",
          "data": {
            "text/plain": [
              "0.6359032076533483"
            ]
          },
          "metadata": {
            "tags": []
          },
          "execution_count": 21
        }
      ]
    },
    {
      "cell_type": "markdown",
      "metadata": {
        "id": "FrUa0axrVH_n",
        "colab_type": "text"
      },
      "source": [
        "Comparado con lo obtenido con Vader se obtuvo un resultado mejor por un 7% aproximadamente, lo cual es una mejora considerable sobre el metodo de predicción a nivel léxico."
      ]
    },
    {
      "cell_type": "markdown",
      "metadata": {
        "id": "bcrkdD4qPet2",
        "colab_type": "text"
      },
      "source": [
        "m) Bajo la idea del modelo VADER realice un análisis de qué palabras su modelo tiende a considerar como positivas o negativas por si solas. Algunos de los modelos estudiados en esta sección realizan una predicción probabilista, utilice uno de éstos para verificar lo solicitado. Sobre la representación TF genere datos de entradas que contengan una sola palabra del vocabulario para evaluar que predicción les genera su modelo a esas palabras. Muestre las palabras más negativas y positivas en el vocabulario consideradas por su modelo. Comente."
      ]
    },
    {
      "cell_type": "code",
      "metadata": {
        "id": "Gb7Vm1JjPeIb",
        "colab_type": "code",
        "outputId": "ea19283b-36a6-44d5-b42a-2ddfa8303026",
        "colab": {
          "base_uri": "https://localhost:8080/",
          "height": 36
        }
      },
      "source": [
        "V = len(vocab)\n",
        "word_scores = np.zeros((V, 2))\n",
        "for i in range(V):\n",
        "    x_word = np.zeros((1, V))\n",
        "    x_word[:,i] = 1 # only the \"i\" word appeared\n",
        "    word_scores[i] = model.predict_proba(x_word)\n",
        "\n",
        "print(np.argmax(word_scores,axis=0))\n"
      ],
      "execution_count": 22,
      "outputs": [
        {
          "output_type": "stream",
          "text": [
            "[ 565 3333]\n"
          ],
          "name": "stdout"
        }
      ]
    },
    {
      "cell_type": "code",
      "metadata": {
        "id": "nQqZdh1qjw9b",
        "colab_type": "code",
        "outputId": "9f3ab908-9820-4039-adc3-a73632fd13b3",
        "colab": {
          "base_uri": "https://localhost:8080/",
          "height": 54
        }
      },
      "source": [
        "print(vocab[565])\n",
        "print(vocab[3333])"
      ],
      "execution_count": 23,
      "outputs": [
        {
          "output_type": "stream",
          "text": [
            "bad\n",
            "heart\n"
          ],
          "name": "stdout"
        }
      ]
    },
    {
      "cell_type": "markdown",
      "metadata": {
        "id": "WGJHKBp8kJaM",
        "colab_type": "text"
      },
      "source": [
        "Se puede observar que la palabra mas negativa fue \"bad\" (lo cual hace sentido), mientras que la mas positiva fue \"heart\" lo cual en el contexto de una critica positiva tiene sentido aunque hayan algunas palabras que uno esperase ser mas positivas que probablemente no fueron tan dominantes en el entrenamiento.\n",
        "\n",
        "\n",
        ">n) Intente mejorar los resultados de otra manera. Varíe el pre-procesamiento realizado a los datos en c), por ejemplo eliminar símbolos, números o aplicar la técnica de stemmming [7] en lugar de lemmatization para llevar a su tronco léxico."
      ]
    },
    {
      "cell_type": "code",
      "metadata": {
        "id": "Xxn76Np0krtC",
        "colab_type": "code",
        "colab": {}
      },
      "source": [
        "from nltk.stem.porter import PorterStemmer\n",
        "\n",
        "def base_word_stemmer(word):\n",
        "    wordstemmer = PorterStemmer()\n",
        "    return wordstemmer.stem(word)\n",
        "def word_extractor_stemmer(text):\n",
        "    commonwords = stopwords.words('english')\n",
        "    text = re.sub(r'([a-z])\\1+', r'\\1\\1',text) #substitute multiple letter by two\n",
        "    words = \"\"\n",
        "    wordtokens = [ base_word_stemmer(word.lower()) for word in word_tokenize(text) ]\n",
        "    for word in wordtokens:\n",
        "        if word not in commonwords: #delete stopwords\n",
        "            words+=\" \"+word\n",
        "    return words\n",
        "\n",
        "texts_train = [word_extractor_stemmer(text) for text in df_train_text]\n",
        "texts_val = [word_extractor_stemmer(text) for text in df_val_text]\n",
        "texts_test = [word_extractor_stemmer(text) for text in df_test_text]\n",
        "\n",
        "vectorizer.fit(texts_train)\n",
        "features_train = vectorizer.transform(texts_train)\n",
        "features_val = vectorizer.transform(texts_val)\n",
        "features_test = vectorizer.transform(texts_test)\n",
        "\n"
      ],
      "execution_count": 0,
      "outputs": []
    },
    {
      "cell_type": "code",
      "metadata": {
        "id": "tTECkpGTkrq3",
        "colab_type": "code",
        "outputId": "1e90ca77-0a23-4162-f1db-0217c32ddf48",
        "colab": {
          "base_uri": "https://localhost:8080/",
          "height": 54
        }
      },
      "source": [
        "model, train_acc, test_acc = do_SVM(features_train,labels_train,features_test,labels_test,10,\"rbf\", probability=True)\n",
        "print (test_acc)"
      ],
      "execution_count": 25,
      "outputs": [
        {
          "output_type": "stream",
          "text": [
            "Param C=  10 Kernel=  rbf\n",
            "0.7194710185706247\n"
          ],
          "name": "stdout"
        }
      ]
    },
    {
      "cell_type": "markdown",
      "metadata": {
        "id": "MZG5aJ8smuAQ",
        "colab_type": "text"
      },
      "source": [
        "Usando Stemming se obtuvo, utilizando nuevamente SVM con C=10 y rbf, un resultado levemente mejor sobre los datos de test.\n",
        "\n",
        ">o) Varíe la representación utilizada actualmente por alguna otra que ayude a mejorar el desempeño, por ejemplo reducir el peso de una palabra si es que aparece en muchos textos: TF-IDF. Existen varias opciones que podría realizar para mejorar el desempeño, por ejemplo reducir el vocabulario a las $K$ palabras más frecuentes, eliminar las palabras menos frecuentes, normalizar la representación, utilizar n-gramas, entre otras."
      ]
    },
    {
      "cell_type": "code",
      "metadata": {
        "id": "QO3GH7i-nkZH",
        "colab_type": "code",
        "outputId": "9201dddf-9163-4249-8ee3-0e74e7adc9e8",
        "colab": {
          "base_uri": "https://localhost:8080/",
          "height": 524
        }
      },
      "source": [
        "from sklearn.feature_extraction.text import TfidfVectorizer\n",
        "\n",
        "P=[1,10,100,100,500,1000,1500,2000,2500,3000,4000,5000,None]\n",
        "l=[]\n",
        "for i in P:\n",
        "  tfidf_model = TfidfVectorizer(binary=False, ngram_range=(1, 1), max_df=1.0, min_df=1, max_features=i, norm='l2', use_idf=True, sublinear_tf=False)\n",
        "  tfidf_model.fit(texts_train)\n",
        "  features_train=tfidf_model.transform(texts_train)\n",
        "  features_val =tfidf_model.transform(texts_val)\n",
        "  features_test =tfidf_model.transform(texts_test)\n",
        "  model, train_acc, test_acc = do_SVM(features_train,labels_train,features_test,labels_test,10,\"rbf\", probability=True)\n",
        "  l.append(test_acc)\n",
        "plt.plot(P,l)\n",
        "print(\"Considerando todas las palabras el score es:\",test_acc)\n"
      ],
      "execution_count": 26,
      "outputs": [
        {
          "output_type": "stream",
          "text": [
            "Param C=  10 Kernel=  rbf\n",
            "Param C=  10 Kernel=  rbf\n",
            "Param C=  10 Kernel=  rbf\n",
            "Param C=  10 Kernel=  rbf\n",
            "Param C=  10 Kernel=  rbf\n",
            "Param C=  10 Kernel=  rbf\n",
            "Param C=  10 Kernel=  rbf\n",
            "Param C=  10 Kernel=  rbf\n",
            "Param C=  10 Kernel=  rbf\n",
            "Param C=  10 Kernel=  rbf\n",
            "Param C=  10 Kernel=  rbf\n",
            "Param C=  10 Kernel=  rbf\n",
            "Param C=  10 Kernel=  rbf\n",
            "Considerando todas las palabras el score es: 0.7284749577940349\n"
          ],
          "name": "stdout"
        },
        {
          "output_type": "display_data",
          "data": {
            "image/png": "[encoded data removed]",
            "text/plain": [
              "<Figure size 432x288 with 1 Axes>"
            ]
          },
          "metadata": {
            "tags": []
          }
        }
      ]
    },
    {
      "cell_type": "markdown",
      "metadata": {
        "id": "zPcqi95zql7e",
        "colab_type": "text"
      },
      "source": [
        "Usando TF-IDF y variando K dentro del rango de valores posibles de cantidad de palabras se puede observar que mientras mas palabras son consideras, mejor es el score obtenido. Se puede considerar tambien que para un valor entre 2000 palabras, el score obtenido no varia mucho en comparación a usar todas las palabras lo cual ahorraria capacidad computacional.\n",
        "\n",
        "Considerando todas las palabras de igual forma se obtiene una mejora frente al anterior metodo utilizado.\n",
        "\n",
        "> p) Utilice métricas auxiliares para entender en qué falla su mejor modelo obtenido hasta el momento. ¿La información entregada indica cómo se podría mejorar o cual sería la causa de la falla?"
      ]
    },
    {
      "cell_type": "code",
      "metadata": {
        "id": "YbDhMNI5sADV",
        "colab_type": "code",
        "outputId": "30236830-171b-4c19-ebf8-6f79e2f27219",
        "colab": {
          "base_uri": "https://localhost:8080/",
          "height": 202
        }
      },
      "source": [
        "from sklearn.metrics import classification_report\n",
        "def score_the_model(model, x, y):\n",
        "    print(\"Detailed Analysis Testing Results ...\")\n",
        "    print(classification_report(y, model.predict(x), target_names=['-','+']))\n",
        "\n",
        "score_the_model(model, features_test, labels_test )"
      ],
      "execution_count": 27,
      "outputs": [
        {
          "output_type": "stream",
          "text": [
            "Detailed Analysis Testing Results ...\n",
            "              precision    recall  f1-score   support\n",
            "\n",
            "           -       0.73      0.74      0.73      1803\n",
            "           +       0.73      0.72      0.72      1751\n",
            "\n",
            "    accuracy                           0.73      3554\n",
            "   macro avg       0.73      0.73      0.73      3554\n",
            "weighted avg       0.73      0.73      0.73      3554\n",
            "\n"
          ],
          "name": "stdout"
        }
      ]
    },
    {
      "cell_type": "markdown",
      "metadata": {
        "id": "RAg69-xGtrgc",
        "colab_type": "text"
      },
      "source": [
        "Se puede observar que el modelo predice tanto comentarios negativos como positivos con la misma precision pero difieren levemente en el recall lo puede indicar que en el caso de los comentarios positivos se generas mas falsos positivos (puede ser producto del sarcasmo por ejemplo).\n",
        "\n",
        "> q) Algo que se puede modificar en algunos modelos de aprendizaje es poner peso en cada una de las clases, por ejemplo si una clase es de mayor interés que las otras e interesa reducir más su error. En *sklearn* ésto puede ser realizado con el parámetro de *class_weights*. Por ejemplo, asigne que detectar los textos negativos me interesa 5 veces más que detectar los textos positivos. Comente."
      ]
    },
    {
      "cell_type": "code",
      "metadata": {
        "id": "Haa-85SeuTuF",
        "colab_type": "code",
        "outputId": "dfdae753-3e0e-402d-a4d7-e1f5c0fe2722",
        "colab": {
          "base_uri": "https://localhost:8080/",
          "height": 221
        }
      },
      "source": [
        "classes_weights = {0: 5, 1: 1} #or choose..\n",
        "def do_SVM_weighted(x,y,xv,yv, param, kernel,weights,probability=False):\n",
        "    print(\"Param C= \",param, 'Kernel= ', kernel)\n",
        "    model= SVM()\n",
        "    model.set_params(C=param,kernel=kernel, probability=probability,class_weight=weights) #try rbf and linear at least\n",
        "    model.fit(x,y)\n",
        "    train_acc = model.score(x,y)\n",
        "    test_acc = model.score(xv,yv)\n",
        "    return model, train_acc, test_acc\n",
        "\n",
        "model, train_acc, test_acc = do_SVM_weighted(features_train,labels_train,features_test,labels_test,10,\"rbf\",classes_weights, probability=True)\n",
        "\n",
        "score_the_model(model, features_test, labels_test)"
      ],
      "execution_count": 28,
      "outputs": [
        {
          "output_type": "stream",
          "text": [
            "Param C=  10 Kernel=  rbf\n",
            "Detailed Analysis Testing Results ...\n",
            "              precision    recall  f1-score   support\n",
            "\n",
            "           -       0.73      0.74      0.73      1803\n",
            "           +       0.73      0.72      0.72      1751\n",
            "\n",
            "    accuracy                           0.73      3554\n",
            "   macro avg       0.73      0.73      0.73      3554\n",
            "weighted avg       0.73      0.73      0.73      3554\n",
            "\n"
          ],
          "name": "stdout"
        }
      ]
    },
    {
      "cell_type": "markdown",
      "metadata": {
        "id": "p0zpfcaKwZgO",
        "colab_type": "text"
      },
      "source": [
        "Se puede observar que cambiando los pesos no hubo ningun cambio en las precisiones o en el recall de cada caso.\n",
        "\n",
        "> r) Visualice la clasificación que realiza su mejor modelo sobre algunos textos de pruebas ¿Qué entega mas información, una predicción categórica o una continua? ¿Cuál podría ser el beneficio de una o de otra? Comente"
      ]
    },
    {
      "cell_type": "code",
      "metadata": {
        "id": "P9LbbUz2wxsL",
        "colab_type": "code",
        "outputId": "ca86b1ff-bb75-44c0-9a18-be42be17bb14",
        "colab": {
          "base_uri": "https://localhost:8080/",
          "height": 871
        }
      },
      "source": [
        "test_pred = model.predict_proba(features_test) #or \".predict\"\n",
        "spl = np.random.randint( 0, len(test_pred), size=15)\n",
        "for text, pred_s, true_s in zip(df_test_text[spl], test_pred[spl], labels_test[spl]):\n",
        "    print(\"True sent: \", true_s, \"-- Pred sent: \",pred_s)\n",
        "    print(\"Raw text: \", text)"
      ],
      "execution_count": 29,
      "outputs": [
        {
          "output_type": "stream",
          "text": [
            "True sent:  0.0 -- Pred sent:  [0.28646381 0.71353619]\n",
            "Raw text:  skillful as he is , mr . shyamalan is undone by his pretensions .\n",
            "\n",
            "True sent:  0.0 -- Pred sent:  [0.73700963 0.26299037]\n",
            "Raw text:  where tom green stages his gags as assaults on america's knee-jerk moral sanctimony , jackass lacks aspirations of social upheaval .\n",
            "\n",
            "True sent:  0.0 -- Pred sent:  [0.78711074 0.21288926]\n",
            "Raw text:  brainy , artistic and muted , almost to the point of suffocation .\n",
            "\n",
            "True sent:  0.0 -- Pred sent:  [0.70384794 0.29615206]\n",
            "Raw text:  a culture clash comedy only half as clever as it thinks it is .\n",
            "\n",
            "True sent:  1.0 -- Pred sent:  [0.22917973 0.77082027]\n",
            "Raw text:  a pleasant enough movie , held together by skilled ensemble actors .\n",
            "\n",
            "True sent:  1.0 -- Pred sent:  [0.20355157 0.79644843]\n",
            "Raw text:  if you can keep your eyes open amid all the blood and gore , you'll see del toro has brought unexpected gravity to blade ii .\n",
            "\n",
            "True sent:  0.0 -- Pred sent:  [0.51446955 0.48553045]\n",
            "Raw text:  isn't as sharp as the original . . . despite some visual virtues , 'blade ii' just doesn't cut it .\n",
            "\n",
            "True sent:  1.0 -- Pred sent:  [0.19549276 0.80450724]\n",
            "Raw text:  divine secrets of the ya-ya sisterhood may not be exactly divine , but it's definitely -- defiantly -- ya ya , what with all of those terrific songs and spirited performances .\n",
            "\n",
            "True sent:  1.0 -- Pred sent:  [0.09356404 0.90643596]\n",
            "Raw text:  a smart , witty follow-up .\n",
            "\n",
            "True sent:  0.0 -- Pred sent:  [0.79389314 0.20610686]\n",
            "Raw text:  it almost plays like solaris , but with guns and jokes .\n",
            "\n",
            "True sent:  0.0 -- Pred sent:  [0.75242349 0.24757651]\n",
            "Raw text:  distinctly sub-par . . . more likely to drown a viewer in boredom than to send any shivers down his spine .\n",
            "\n",
            "True sent:  0.0 -- Pred sent:  [0.60190225 0.39809775]\n",
            "Raw text:  the smug , oily demeanor that donovan adopts throughout the stupidly named pipe dream is just repulsive .\n",
            "\n",
            "True sent:  0.0 -- Pred sent:  [0.90238132 0.09761868]\n",
            "Raw text:  incoherence reigns .\n",
            "\n",
            "True sent:  1.0 -- Pred sent:  [0.11653176 0.88346824]\n",
            "Raw text:  a smart , sassy and exceptionally charming romantic comedy .\n",
            "\n",
            "True sent:  0.0 -- Pred sent:  [0.59262297 0.40737703]\n",
            "Raw text:  though howard demonstrates a great eye as a director , this southern gothic drama is sadly a tough sit , with an undeveloped narrative and enough flashbacks and heavy-handed metaphors to choke a horse -- or at least slow him down to a canter .\n",
            "\n"
          ],
          "name": "stdout"
        }
      ]
    },
    {
      "cell_type": "markdown",
      "metadata": {
        "id": "h6ouWl2QxeZH",
        "colab_type": "text"
      },
      "source": [
        "Una predicción continua entrega mas información que una categorica, ya que se puede observar con que tanta certeza se obtuvo cada respuesta y posiblemente notar facilmente donde se producen los falsos negativos. Por otra parte una predicción categorica es mucho mas facil de interpretar pero mucho mas complicado entender cómo es que el modelo se equivoca."
      ]
    },
    {
      "cell_type": "markdown",
      "metadata": {
        "id": "yrogR-D9CJUb",
        "colab_type": "text"
      },
      "source": [
        "\n",
        "> s) Comente sobre el desempeño obtenido por los diferentes modelos de aprendizaje utilizados al enfrentar el problema, ¿Dónde pareciera estar la mejora? ¿En la variación de los modelos y sus parámetros o en la modificación de la representación? ¿Cuál modelo de aprendizaje le parece mejor en base a su criterio? ya sea desempeño, tiempo de ejecución comodidad en las decisiones involucradas, etc."
      ]
    },
    {
      "cell_type": "markdown",
      "metadata": {
        "id": "oTW_Wjp1yCUG",
        "colab_type": "text"
      },
      "source": [
        "Aparentemente el mejor manejo de la representación de los datos permite obtener mejores resultados. Variando los modelos se observo que los que se ajustaban al problema tendían a obtener scores similares, mientras que los que no se ajustaban de buena manera como KNN simplemente no entrenaban apropiadamente.\n",
        "\n",
        "En el caso de ANN el modelo tampoco logro ajustarse apropiadamente, pero utilizando un distinto kernel si lo hizo, esto producto de la naturaleza del problema. \n",
        "\n",
        "SVM fue el modelo mas facil de usar e interpretar, dado que solo modificando el kernel podiamos observar mejoras o perdidas en los scores y resulta menos ambiguo de entender (almenos para nosotros) que una red neuronal, la cual tambien era modificable con los kernels de las capas internar pero habian muchos mas factores a considerar, como el kernel de activación en la capa de salida, la cantidad de capaz o el tamaño de los epochs.\n"
      ]
    },
    {
      "cell_type": "markdown",
      "metadata": {
        "id": "Id7Pc29WC-C6",
        "colab_type": "text"
      },
      "source": [
        "<a id=\"segundo\"></a>\n",
        "\n",
        "## 2. Problema de Múltiples Anotaciones\n",
        "\n",
        "El aprendizaje supervisado visto en clases da cuenta que existe una única posible etiqueta $z$ (*ground truth*) asociada a un dato $x$ para poder aprender de los datos. Sin embargo, la definición del *ground truth* en algunos casos puede resultar bastante difícil de definir o bastante costoso, por ejemplo en problemas médicos donde se deben realizar invasivos exámenes para conocer la \"verdad absoluta\". Como alternativa se pueden recolectar múltiples anotaciones desde personas inexpertas en el área para poder estimar el *ground truth*. \n",
        "\n",
        "<img src=\"http://www.irishenvironment.com/wp-content/uploads/2013/11/crowdsourcing.jpg\" title=\"Title text\" width=\"40%\" />\n",
        "\n",
        "En esta actividad se trabajará en el caso en que contamos con múltiples anotaciones por cada dato de entrada $x_i$ dadas por personas inexpertas a través de Amazon Mechanical Turk (__[AMT](https://www.mturk.com/)__), es decir, $y^{(1)}, y^{(2)} \\ldots y^{(T_i)}$. El problema de predicción trabajado será el mismo de la actividad anterior, el análisis de sentimiento de un extracto de texto en Rotten Tomatoes. Los datos trabajados [[8]](#refs) pueden ser descargados de la página del autor."
      ]
    },
    {
      "cell_type": "code",
      "metadata": {
        "id": "DBWpOdYYIlZV",
        "colab_type": "code",
        "colab": {}
      },
      "source": [
        "import pandas as pd\n",
        "df = pd.read_csv(\"mturk_answers.csv\") "
      ],
      "execution_count": 0,
      "outputs": []
    },
    {
      "cell_type": "markdown",
      "metadata": {
        "id": "FkWUzCogIzGJ",
        "colab_type": "text"
      },
      "source": [
        "De esta manera trabajaremos con el archivo *mturk_answers.csv* en la carpeta *sentiment polarity* que se puede cargar con pandas. En este archivo se tendrán múltiples filas/registros por cada dato de entrenamiento, cada uno representando la etiqueta que entregó una persona (*worker*) a ese dato, los detalles de columnas son:\n",
        "* *WorkerId*: identificador de la persona que etiquetó/anotó el dato\n",
        "* *Input.id*: identificador del dato a etiquetar/anotar\n",
        "* *Input.original_sentence*: texto original del dato\n",
        "* *Input.stemmed_sent*: texto pre-procesado\n",
        "* *Input.true_sent*: sentimiento real (*ground truth*) del dato\n",
        "* *Answer.sent*:   etiqueta/anotación que entregó la persona\n",
        "\n",
        "\n",
        "> El objetivo de la actividad será el de obtener un modelo predictor del *ground truth* sin entrenar directamente con esto, sino que utilizar las múltiples anotaciones de las personas\n",
        "\n",
        "### Importante\n",
        "* Deberá crear un conjunto aleatorio de pruebas que solo contenga los textos y el sentimiento *ground truth* (sin repeticiones)\n",
        "* Los valores de *ground truth* están **solo para evaluar**, no puede utilizarlos para entrenar o tomar decisiones en su modelo.\n",
        "* La métrica de evaluación será el *accuracy score*"
      ]
    },
    {
      "cell_type": "markdown",
      "metadata": {
        "id": "EbIICJDgCJUd",
        "colab_type": "text"
      },
      "source": [
        "\n",
        "#### Sugerencias\n",
        "Para representar los textos, a diferencia de lo visto en la sección 1, se puede utilizar lo que son la representación vectorial de palabras (*word vectors*), a través de modelos especializados entrenados para aprender una representación en que palabras similares estén cercanas en el espacio vectorial. Puede utilizar los vectores livianos de __[GLOVE](https://nlp.stanford.edu/projects/glove/)__ en su versión entradas en textos de Wikipedia con 6 billones de palabras/tokens.\n",
        "```python\n",
        "EMBEDDING_DIM = 300\n",
        "GLOVE_FILE = \"./glove.6B.%dd.txt\"%(EMBEDDING_DIM)\n",
        "embeddings_index = {}\n",
        "with open(GLOVE_FILE) as file:\n",
        "    for line in file:\n",
        "        values = line.split()\n",
        "        embeddings_index[values[0]] = np.asarray(values[1:], dtype='float32')\n",
        "...\n",
        "embeddings_index.get(word)\n",
        "```\n",
        "> Para descargar GLOVE\n",
        "```\n",
        "wget http://nlp.stanford.edu/data/glove.6B.zip\n",
        "```\n"
      ]
    },
    {
      "cell_type": "code",
      "metadata": {
        "id": "TUMQg7E6JGTv",
        "colab_type": "code",
        "outputId": "98fae3ce-2a0d-486a-c80e-1ff5988601f0",
        "colab": {
          "base_uri": "https://localhost:8080/",
          "height": 423
        }
      },
      "source": [
        "df"
      ],
      "execution_count": 31,
      "outputs": [
        {
          "output_type": "execute_result",
          "data": {
            "text/html": [
              "<div>\n",
              "<style scoped>\n",
              "    .dataframe tbody tr th:only-of-type {\n",
              "        vertical-align: middle;\n",
              "    }\n",
              "\n",
              "    .dataframe tbody tr th {\n",
              "        vertical-align: top;\n",
              "    }\n",
              "\n",
              "    .dataframe thead th {\n",
              "        text-align: right;\n",
              "    }\n",
              "</style>\n",
              "<table border=\"1\" class=\"dataframe\">\n",
              "  <thead>\n",
              "    <tr style=\"text-align: right;\">\n",
              "      <th></th>\n",
              "      <th>WorkerId</th>\n",
              "      <th>Input.id</th>\n",
              "      <th>Input.original_sentence</th>\n",
              "      <th>Input.stemmed_sent</th>\n",
              "      <th>Input.true_sent</th>\n",
              "      <th>Answer.sent</th>\n",
              "    </tr>\n",
              "  </thead>\n",
              "  <tbody>\n",
              "    <tr>\n",
              "      <th>0</th>\n",
              "      <td>A2HD5XMM48KKJW</td>\n",
              "      <td>4518</td>\n",
              "      <td>the cast is phenomenal , especially the women .</td>\n",
              "      <td>cast phenomen especi women</td>\n",
              "      <td>pos</td>\n",
              "      <td>pos</td>\n",
              "    </tr>\n",
              "    <tr>\n",
              "      <th>1</th>\n",
              "      <td>A2HD5XMM48KKJW</td>\n",
              "      <td>10415</td>\n",
              "      <td>the metaphors are provocative , but too often ...</td>\n",
              "      <td>metaphor provoc often viewer left puzzl mechan...</td>\n",
              "      <td>neg</td>\n",
              "      <td>neg</td>\n",
              "    </tr>\n",
              "    <tr>\n",
              "      <th>2</th>\n",
              "      <td>A2HD5XMM48KKJW</td>\n",
              "      <td>7098</td>\n",
              "      <td>while there's something intrinsically funny ab...</td>\n",
              "      <td>there someth intrins funni sir anthoni hopkin ...</td>\n",
              "      <td>neg</td>\n",
              "      <td>pos</td>\n",
              "    </tr>\n",
              "    <tr>\n",
              "      <th>3</th>\n",
              "      <td>A2HD5XMM48KKJW</td>\n",
              "      <td>4396</td>\n",
              "      <td>a harrowing account of a psychological breakdo...</td>\n",
              "      <td>harrow account psycholog breakdown</td>\n",
              "      <td>pos</td>\n",
              "      <td>neg</td>\n",
              "    </tr>\n",
              "    <tr>\n",
              "      <th>4</th>\n",
              "      <td>A2HD5XMM48KKJW</td>\n",
              "      <td>2812</td>\n",
              "      <td>. . . a visually seductive , unrepentantly tr...</td>\n",
              "      <td>visual seduct unrepentantli trashi rice instal...</td>\n",
              "      <td>pos</td>\n",
              "      <td>pos</td>\n",
              "    </tr>\n",
              "    <tr>\n",
              "      <th>...</th>\n",
              "      <td>...</td>\n",
              "      <td>...</td>\n",
              "      <td>...</td>\n",
              "      <td>...</td>\n",
              "      <td>...</td>\n",
              "      <td>...</td>\n",
              "    </tr>\n",
              "    <tr>\n",
              "      <th>27741</th>\n",
              "      <td>A4F3BK6J0PCVH</td>\n",
              "      <td>7144</td>\n",
              "      <td>the movie fails to live up to the sum of its p...</td>\n",
              "      <td>movi fail live sum part</td>\n",
              "      <td>neg</td>\n",
              "      <td>neg</td>\n",
              "    </tr>\n",
              "    <tr>\n",
              "      <th>27742</th>\n",
              "      <td>A4F3BK6J0PCVH</td>\n",
              "      <td>8293</td>\n",
              "      <td>the balkans provide the obstacle course for th...</td>\n",
              "      <td>balkan provid obstacl cours love good woman</td>\n",
              "      <td>neg</td>\n",
              "      <td>neg</td>\n",
              "    </tr>\n",
              "    <tr>\n",
              "      <th>27743</th>\n",
              "      <td>A4F3BK6J0PCVH</td>\n",
              "      <td>2929</td>\n",
              "      <td>this is a smart movie that knows its classical...</td>\n",
              "      <td>smart movi know classic music know freud know ...</td>\n",
              "      <td>pos</td>\n",
              "      <td>pos</td>\n",
              "    </tr>\n",
              "    <tr>\n",
              "      <th>27744</th>\n",
              "      <td>A4F3BK6J0PCVH</td>\n",
              "      <td>6902</td>\n",
              "      <td>there's something with potential here , but th...</td>\n",
              "      <td>there someth potenti movi decid lavinia conser...</td>\n",
              "      <td>neg</td>\n",
              "      <td>neg</td>\n",
              "    </tr>\n",
              "    <tr>\n",
              "      <th>27745</th>\n",
              "      <td>A4F3BK6J0PCVH</td>\n",
              "      <td>1369</td>\n",
              "      <td>. . . a fun little timewaster , helped especi...</td>\n",
              "      <td>fun littl timewast help especi cool presenc je...</td>\n",
              "      <td>pos</td>\n",
              "      <td>pos</td>\n",
              "    </tr>\n",
              "  </tbody>\n",
              "</table>\n",
              "<p>27746 rows × 6 columns</p>\n",
              "</div>"
            ],
            "text/plain": [
              "             WorkerId  Input.id  ... Input.true_sent Answer.sent\n",
              "0      A2HD5XMM48KKJW      4518  ...             pos         pos\n",
              "1      A2HD5XMM48KKJW     10415  ...             neg         neg\n",
              "2      A2HD5XMM48KKJW      7098  ...             neg         pos\n",
              "3      A2HD5XMM48KKJW      4396  ...             pos         neg\n",
              "4      A2HD5XMM48KKJW      2812  ...             pos         pos\n",
              "...               ...       ...  ...             ...         ...\n",
              "27741   A4F3BK6J0PCVH      7144  ...             neg         neg\n",
              "27742   A4F3BK6J0PCVH      8293  ...             neg         neg\n",
              "27743   A4F3BK6J0PCVH      2929  ...             pos         pos\n",
              "27744   A4F3BK6J0PCVH      6902  ...             neg         neg\n",
              "27745   A4F3BK6J0PCVH      1369  ...             pos         pos\n",
              "\n",
              "[27746 rows x 6 columns]"
            ]
          },
          "metadata": {
            "tags": []
          },
          "execution_count": 31
        }
      ]
    },
    {
      "cell_type": "markdown",
      "metadata": {
        "id": "2SjwUd4vJNDA",
        "colab_type": "text"
      },
      "source": [
        "Mostramos el dataset y logramos diferenciar cada atributo de este. Lo que se buscará hacer sera convertir Answer.sent e Input.true_sent a numeros enteros. Para Answer.sent se sacará el promedio de las votaciones hechas por las personas sobre cada oración. Esto, en conjunto a Input.true_sent (ground truth) y Input.stemmed_sent seran los datos con los que trabajaremos, siendo los promedios de los Answer_sent la etiqueta para cada Input.stemmed_sent.\n",
        "\n",
        "Con esto trabajaremos de forma similar a lo realizado en la parte 1 de la tarea. Dado que la naturaleza del problema es similar (muchas caracteristicas para cada dato) utilizaremos el metodo predictor con mejor resultado anteriormente el cual fue SVM con rbf.\n",
        "\n",
        "Utilizaremos Input.id para identificar las sentencias de forma facil."
      ]
    },
    {
      "cell_type": "code",
      "metadata": {
        "id": "kqeZ44N1K-h0",
        "colab_type": "code",
        "outputId": "7db9de42-af1f-4adc-8a00-ace7a4b6d47e",
        "colab": {
          "base_uri": "https://localhost:8080/",
          "height": 36
        }
      },
      "source": [
        "palabras = dict()\n",
        "\n",
        "#j=rows\n",
        "for i, j in df.iterrows():\n",
        "    if j[\"Input.id\"] not in palabras.keys():\n",
        "        if j[\"Input.true_sent\"]==\"pos\":\n",
        "            palabras[j[\"Input.id\"]] = (j[\"Input.stemmed_sent\"], list(), 1) \n",
        "        else:\n",
        "            palabras[j[\"Input.id\"]] = (j[\"Input.stemmed_sent\"], list(), 0) \n",
        "\n",
        "\n",
        "    if j[\"Answer.sent\"]==\"pos\":\n",
        "        palabras[j[\"Input.id\"]][1].append(1)\n",
        "    else:\n",
        "        palabras[j[\"Input.id\"]][1].append(0)\n",
        "\n",
        "#print(palabras)\n",
        "from numpy import median\n",
        "labels= list()\n",
        "ground_truth = list()\n",
        "texto = list()\n",
        "for _,(palabra, label, ground) in palabras.items():\n",
        "    prom = median(label) \n",
        "    texto.append(palabra)\n",
        "    labels.append(round(prom,0))\n",
        "    ground_truth.append(ground)\n",
        "#print(labels)\n",
        "print(\"Forma de las labels Train:\",len(labels))"
      ],
      "execution_count": 32,
      "outputs": [
        {
          "output_type": "stream",
          "text": [
            "Forma de las labels Train: 4999\n"
          ],
          "name": "stdout"
        }
      ]
    },
    {
      "cell_type": "markdown",
      "metadata": {
        "id": "CUmwaXw1Pchz",
        "colab_type": "text"
      },
      "source": [
        "Separamos entre conjuntos de prueba y validación considerando la proporción del 30% para validación y vectorizamos los datos utilizando CountVectorizer.\n",
        "\n"
      ]
    },
    {
      "cell_type": "code",
      "metadata": {
        "id": "lj6ecihTPhcT",
        "colab_type": "code",
        "colab": {}
      },
      "source": [
        "from sklearn.model_selection import train_test_split\n",
        "train_text, val_text, labels_train, labels_val  = train_test_split(texto, labels, test_size= 1500, random_state=0)\n",
        "\n",
        "from sklearn.feature_extraction.text import CountVectorizer\n",
        "vectorizer = CountVectorizer(ngram_range=(1, 1), binary=False) #TF representation\n",
        "vectorizer.fit(train_text)\n",
        "vectorizer.transform(train_text)\n",
        "\n",
        "vectorizer.fit(train_text)\n",
        "features_train = vectorizer.transform(train_text)\n",
        "features_val = vectorizer.transform(val_text)\n",
        "\n",
        "\n"
      ],
      "execution_count": 0,
      "outputs": []
    },
    {
      "cell_type": "markdown",
      "metadata": {
        "id": "PEWyGgD8SlIB",
        "colab_type": "text"
      },
      "source": [
        "Utilizamos SVM con rbf y probamos con distintos valores C para poder determinar uno."
      ]
    },
    {
      "cell_type": "code",
      "metadata": {
        "id": "gY9SvGZvSlT-",
        "colab_type": "code",
        "outputId": "0b058e7d-5936-4945-bbb1-c4efa4063402",
        "colab": {
          "base_uri": "https://localhost:8080/",
          "height": 446
        }
      },
      "source": [
        "train_l=[]\n",
        "test_l=[]\n",
        "for i in Cs:\n",
        "    model, train_acc, test_acc = do_SVM(features_train,labels_train,features_val,labels_val,i,\"rbf\", probability=True)\n",
        "    train_l.append(train_acc)\n",
        "    test_l.append(test_acc)\n",
        "print (train_l)\n",
        "\n",
        "plt.plot(Csp,train_l, label='Training')\n",
        "plt.plot(Csp,test_l, label='Validation')\n",
        "plt.xlabel(\"Potencia Parametro C\")\n",
        "plt.ylabel(\"Acc\")\n",
        "plt.legend()\n",
        "\n"
      ],
      "execution_count": 34,
      "outputs": [
        {
          "output_type": "stream",
          "text": [
            "Param C=  0.001 Kernel=  rbf\n",
            "Param C=  0.01 Kernel=  rbf\n",
            "Param C=  0.1 Kernel=  rbf\n",
            "Param C=  1 Kernel=  rbf\n",
            "Param C=  10 Kernel=  rbf\n",
            "Param C=  100 Kernel=  rbf\n",
            "Param C=  1000 Kernel=  rbf\n",
            "[0.5141468991140326, 0.5141468991140326, 0.5147184909974278, 0.9782795084309803, 1.0, 1.0, 1.0]\n"
          ],
          "name": "stdout"
        },
        {
          "output_type": "execute_result",
          "data": {
            "text/plain": [
              "<matplotlib.legend.Legend at 0x7f067435f400>"
            ]
          },
          "metadata": {
            "tags": []
          },
          "execution_count": 34
        },
        {
          "output_type": "display_data",
          "data": {
            "image/png": "[encoded data removed]",
            "text/plain": [
              "<Figure size 432x288 with 1 Axes>"
            ]
          },
          "metadata": {
            "tags": []
          }
        }
      ]
    },
    {
      "cell_type": "markdown",
      "metadata": {
        "id": "JqGzm_-BWhec",
        "colab_type": "text"
      },
      "source": [
        "Se observa que en C=1 el score de validación empieza a comportarse de forma constante. Con esto se decide entrenar con C=1 y comparar los valores respecto a las etiquetas reales."
      ]
    },
    {
      "cell_type": "code",
      "metadata": {
        "id": "S-WP2csmXaky",
        "colab_type": "code",
        "outputId": "38935784-040a-474a-aac7-ad19eabdc0f0",
        "colab": {
          "base_uri": "https://localhost:8080/",
          "height": 36
        }
      },
      "source": [
        "a, b, labels_test, c  = train_test_split(texto, ground_truth, test_size= 1500, random_state=0)\n",
        "model, train_acc, test_acc = do_SVM(features_train,labels_train,features_val,labels_val,1,\"rbf\", probability=True)\n",
        "predict=model.predict(features_train)\n",
        "\n"
      ],
      "execution_count": 43,
      "outputs": [
        {
          "output_type": "stream",
          "text": [
            "Param C=  1 Kernel=  rbf\n"
          ],
          "name": "stdout"
        }
      ]
    },
    {
      "cell_type": "code",
      "metadata": {
        "id": "EUExIJu1ZjOs",
        "colab_type": "code",
        "outputId": "4229e178-1d58-44ae-bd53-d0b58654a0b8",
        "colab": {
          "base_uri": "https://localhost:8080/",
          "height": 36
        }
      },
      "source": [
        "print(\"Score de etiquetas entrenadas vs etiquetas reales\",accuracy_score(labels_test,predict))"
      ],
      "execution_count": 44,
      "outputs": [
        {
          "output_type": "stream",
          "text": [
            "Score de etiquetas entrenadas vs etiquetas reales 0.8808230923120892\n"
          ],
          "name": "stdout"
        }
      ]
    },
    {
      "cell_type": "markdown",
      "metadata": {
        "id": "ERHIvSChaLLM",
        "colab_type": "text"
      },
      "source": [
        "Se obtiene como resultado una accuracy del 88% aproximadamente, lo cual es un resultado mas alto de lo que esperabamos, haciendo contraste con lo hecho en la parte 1."
      ]
    },
    {
      "cell_type": "markdown",
      "metadata": {
        "id": "2NwwrtpOCJUf",
        "colab_type": "text"
      },
      "source": [
        "<a id=\"refs\"></a>\n",
        "## Referencias\n",
        "[1] Keras: Deep Learning library for Theano and TensorFlow. https://keras.io/  \n",
        "[2] https://www.kaggle.com/c/sentiment-analysis-on-movie-reviews  \n",
        "[3] https://en.wikipedia.org/wiki/Stopwords  \n",
        "[4] https://en.wikipedia.org/wiki/Lemmatisation  \n",
        "[5] Landauer, T. K., Foltz, P. W., & Laham, D. (1998). *An introduction to latent semantic analysis*. Discourse processes, 25(2-3), 259-284.  \n",
        "[6] https://github.com/cjhutto/vaderSentiment  \n",
        "[7] https://en.wikipedia.org/wiki/Stemming  \n",
        "[8] Rodrigues, F., Pereira, F., & Ribeiro, B. (2013). *Learning from multiple annotators: distinguishing good from random labelers*. Pattern Recognition Letters, 34(12), 1428-1436."
      ]
    },
    {
      "cell_type": "code",
      "metadata": {
        "id": "DNugBkRmKDnx",
        "colab_type": "code",
        "colab": {}
      },
      "source": [
        ""
      ],
      "execution_count": 0,
      "outputs": []
    }
  ]
}